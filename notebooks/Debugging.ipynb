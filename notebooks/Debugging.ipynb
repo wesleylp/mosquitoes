{
 "cells": [
  {
   "cell_type": "code",
   "execution_count": 1,
   "id": "41546d90",
   "metadata": {},
   "outputs": [],
   "source": [
    "import os\n",
    "import sys\n",
    "import torch\n",
    "import contextlib\n",
    "import io\n",
    "import cv2\n",
    "import matplotlib.pyplot as plt\n",
    "import pandas as pd\n",
    "\n",
    "from fvcore.common.file_io import PathManager\n",
    "from pycocotools.coco import COCO\n",
    "\n",
    "sys.path.append('../codes')\n",
    "\n",
    "from utils.register_datasets import register_mosquitoes\n",
    "from detectron2.data import (DatasetCatalog, MetadataCatalog, build_detection_test_loader, get_detection_dataset_dicts)\n"
   ]
  },
  {
   "cell_type": "code",
   "execution_count": 2,
   "id": "5d6056b6",
   "metadata": {},
   "outputs": [],
   "source": [
    "def get_num_objs(dataset_dicts):\n",
    "    num_objs = 0\n",
    "    for img in dataset_dicts:\n",
    "        num_objs += (len(img['annotations']))\n",
    "    return num_objs"
   ]
  },
  {
   "cell_type": "code",
   "execution_count": 3,
   "id": "e7d95e4a",
   "metadata": {},
   "outputs": [],
   "source": [
    "register_mosquitoes()"
   ]
  },
  {
   "cell_type": "code",
   "execution_count": 6,
   "id": "69a6b142",
   "metadata": {},
   "outputs": [
    {
     "name": "stderr",
     "output_type": "stream",
     "text": [
      "\n",
      "Category ids in annotations are not in [1, #categories]! We'll apply a mapping for you.\n",
      "\n",
      "\n",
      "Category ids in annotations are not in [1, #categories]! We'll apply a mapping for you.\n",
      "\n",
      "\n",
      "Category ids in annotations are not in [1, #categories]! We'll apply a mapping for you.\n",
      "\n",
      "\n",
      "Category ids in annotations are not in [1, #categories]! We'll apply a mapping for you.\n",
      "\n"
     ]
    },
    {
     "name": "stdout",
     "output_type": "stream",
     "text": [
      "1419 402\n",
      "1516 387\n",
      "1567 383\n"
     ]
    },
    {
     "name": "stderr",
     "output_type": "stream",
     "text": [
      "\n",
      "Category ids in annotations are not in [1, #categories]! We'll apply a mapping for you.\n",
      "\n",
      "\n",
      "Category ids in annotations are not in [1, #categories]! We'll apply a mapping for you.\n",
      "\n",
      "\n",
      "Category ids in annotations are not in [1, #categories]! We'll apply a mapping for you.\n",
      "\n"
     ]
    },
    {
     "name": "stdout",
     "output_type": "stream",
     "text": [
      "1455 380\n",
      "1545 391\n",
      "1315 227\n",
      "1315 292\n"
     ]
    },
    {
     "name": "stderr",
     "output_type": "stream",
     "text": [
      "\n",
      "Category ids in annotations are not in [1, #categories]! We'll apply a mapping for you.\n",
      "\n"
     ]
    },
    {
     "name": "stdout",
     "output_type": "stream",
     "text": [
      "1369 352\n"
     ]
    }
   ],
   "source": [
    "filter_empty = False\n",
    "for k in range(8):\n",
    "    data_set = f\"mbg_train{k}_tire\"\n",
    "\n",
    "\n",
    "    dataset_dict = get_detection_dataset_dicts([data_set], filter_empty=filter_empty)\n",
    "    print(len(dataset_dict), get_num_objs(dataset_dict))"
   ]
  },
  {
   "cell_type": "code",
   "execution_count": null,
   "id": "696a1388",
   "metadata": {},
   "outputs": [],
   "source": []
  }
 ],
 "metadata": {
  "kernelspec": {
   "display_name": "Python 3",
   "language": "python",
   "name": "python3"
  },
  "language_info": {
   "codemirror_mode": {
    "name": "ipython",
    "version": 3
   },
   "file_extension": ".py",
   "mimetype": "text/x-python",
   "name": "python",
   "nbconvert_exporter": "python",
   "pygments_lexer": "ipython3",
   "version": "3.8.8"
  }
 },
 "nbformat": 4,
 "nbformat_minor": 5
}
