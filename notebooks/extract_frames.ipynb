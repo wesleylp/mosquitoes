{
 "cells": [
  {
   "cell_type": "code",
   "execution_count": 2,
   "metadata": {},
   "outputs": [
    {
     "name": "stdout",
     "output_type": "stream",
     "text": [
      "OpenCV version 3.3.1\n"
     ]
    }
   ],
   "source": [
    "import numpy as np\n",
    "import cv2\n",
    "import os\n",
    "print('OpenCV version %s' % cv2.__version__)"
   ]
  },
  {
   "cell_type": "code",
   "execution_count": 18,
   "metadata": {},
   "outputs": [
    {
     "name": "stdout",
     "output_type": "stream",
     "text": [
      "video has 3944 frames\n",
      "Reading frame 0:  False\n",
      "Reading frame 1:  False\n",
      "Reading frame 2:  False\n",
      "Reading frame 3:  False\n",
      "Reading frame 4:  False\n",
      "Reading frame 5:  False\n",
      "Reading frame 6:  False\n",
      "Reading frame 7:  False\n",
      "Reading frame 8:  False\n",
      "Reading frame 9:  False\n"
     ]
    }
   ],
   "source": [
    "#data path\n",
    "vid_path = '../videos/'\n",
    "vid_name = 'DJI00879'\n",
    "vid_format = 'MP4'\n",
    "\n",
    "#path to save the frames\n",
    "frames_path = vid_path+'frames_'+vid_name+'/'\n",
    "\n",
    "#create fold to save the frame if it doesn't exist\n",
    "if not os.path.exists(frames_path):\n",
    "    os.makedirs(frames_path)\n",
    "\n",
    "#load video\n",
    "video_capture = cv2.VideoCapture(vid_path+vid_name+'.'+vid_format)\n",
    "video_length = int(vidcap.get(cv2.CAP_PROP_FRAME_COUNT)) - 1\n",
    "print('video has %d frames' % video_length)\n",
    "success,image = vidcap.read()\n",
    "count = 0\n",
    "success = True\n",
    "#while success:        \n",
    "while count<10:\n",
    "    cv2.imwrite(frames_path+'frame%d.png' % count, image)     # save frame as png file\n",
    "    success,image = vidcap.read()\n",
    "    print('Reading frame %d: '% count,  success)        \n",
    "    count += 1"
   ]
  },
  {
   "cell_type": "code",
   "execution_count": 12,
   "metadata": {},
   "outputs": [
    {
     "name": "stdout",
     "output_type": "stream",
     "text": [
      "3944\n"
     ]
    }
   ],
   "source": [
    "video_length = int(vidcap.get(cv2.CAP_PROP_FRAME_COUNT)) - 1\n",
    "print(video_length)"
   ]
  }
 ],
 "metadata": {
  "kernelspec": {
   "display_name": "Python 3",
   "language": "python",
   "name": "python3"
  },
  "language_info": {
   "codemirror_mode": {
    "name": "ipython",
    "version": 3
   },
   "file_extension": ".py",
   "mimetype": "text/x-python",
   "name": "python",
   "nbconvert_exporter": "python",
   "pygments_lexer": "ipython3",
   "version": "3.6.4"
  }
 },
 "nbformat": 4,
 "nbformat_minor": 2
}
