{
 "cells": [
  {
   "cell_type": "code",
   "execution_count": 122,
   "id": "98a6efbc",
   "metadata": {},
   "outputs": [],
   "source": [
    "import os\n",
    "import sys\n",
    "import pickle\n",
    "import cv2\n",
    "from tqdm.notebook import tqdm\n",
    "import matplotlib.pyplot as plt\n",
    "\n",
    "from detectron2.config import get_cfg\n",
    "from detectron2.engine import DefaultPredictor\n",
    "\n",
    "sys.path.append(\"../\")\n",
    "\n",
    "from codes.utils.img_utils import add_bboxes_on_image\n",
    "from codes.video_handling import videoObj\n",
    "from codes.utils.time_consist import tube_space_time, filter_pipes, pipe_to_frame_instances\n",
    "from codes.utils.evaluation import filter_preds_score_video\n",
    "from codes.time_consistency import run_on_video"
   ]
  },
  {
   "cell_type": "code",
   "execution_count": 144,
   "id": "3404702a",
   "metadata": {},
   "outputs": [],
   "source": [
    "video_name = \"20181112_rectified_DJI_0043\"\n",
    "video_path = f\"../data/v1/videos/{video_name}.avi\"\n",
    "\n",
    "vid = videoObj(video_path)"
   ]
  },
  {
   "cell_type": "code",
   "execution_count": 145,
   "id": "b6c54ebc",
   "metadata": {},
   "outputs": [],
   "source": [
    "phase_corr_file = os.path.join(f\"../data/phase_correlation/{video_name}_phaseCorr.pkl\")\n",
    "with open(phase_corr_file, 'rb') as phase_corr_pkl:\n",
    "    phase_corr = pickle.load(phase_corr_pkl)"
   ]
  },
  {
   "cell_type": "code",
   "execution_count": 146,
   "id": "813aa065",
   "metadata": {},
   "outputs": [],
   "source": [
    "fold = \"train+val\"\n",
    "obj = \"watertank\"\n",
    "model_iter = \"0014176\"\n",
    "\n",
    "pred_file = f\"../output/v1_new_final/faster_rcnn_R_50_FPN_1x/mbg_{fold}_{obj}/{video_name}_preds_model_{model_iter}.pkl\""
   ]
  },
  {
   "cell_type": "code",
   "execution_count": 147,
   "id": "9ac1d488",
   "metadata": {},
   "outputs": [
    {
     "name": "stdout",
     "output_type": "stream",
     "text": [
      "loading predictions...\n",
      "done!\n"
     ]
    }
   ],
   "source": [
    "fold = \"train+val\"\n",
    "obj = \"watertank\"\n",
    "model_iter = \"0014176\"\n",
    "\n",
    "pred_file = f\"../output/v1_new_final/faster_rcnn_R_50_FPN_1x/mbg_{fold}_{obj}/{video_name}_preds_model_{model_iter}.pkl\"\n",
    "\n",
    "if os.path.isfile(pred_file):\n",
    "    print(\"loading predictions...\")\n",
    "    with open(pred_file, 'rb') as f:\n",
    "        preds = pickle.load(f) \n",
    "    print(\"done!\")\n",
    "        \n",
    "else:\n",
    "    print(\"computing predictions...\")\n",
    "    \n",
    "    config_file = \"../codes/configs/mosquitoes/faster_rcnn_R_50_FPN_1x.yaml\"\n",
    "        \n",
    "    cfg = get_cfg()\n",
    "    cfg.merge_from_file(config_file)\n",
    "    cfg.MODEL.WEIGHTS = os.path.join(os.path.dirname(pred_file), f\"model_{model_iter}.pth\")\n",
    "    cfg.MODEL.ROI_HEADS.SCORE_THRESH_TEST = 0.05  # set the testing threshold for this model\n",
    "    cfg.MODEL.ROI_HEADS.NUM_CLASSES = 1\n",
    "    cfg.MODEL.RPN.PRE_NMS_TOPK_TRAIN = 600\n",
    "    cfg.MODEL.RPN.PRE_NMS_TOPK_TEST = 300\n",
    "    cfg.MODEL.RPN.POST_NMS_TOPK_TRAIN = 50\n",
    "    cfg.MODEL.RPN.POST_NMS_TOPK_TEST = 50\n",
    "    \n",
    "    print(f\"weights: {cfg.MODEL.WEIGHTS}\")        \n",
    "    \n",
    "    predictor = DefaultPredictor(cfg)\n",
    "    preds = run_on_video(video_path, predictor, every=1)\n",
    "    \n",
    "    print(\"saving predictions...\")\n",
    "    with open(pred_file, 'wb') as f:\n",
    "        pickle.dump(preds, f)        \n",
    "    print(\"done!\")\n",
    "        "
   ]
  },
  {
   "cell_type": "code",
   "execution_count": 148,
   "id": "1b08ee7c",
   "metadata": {},
   "outputs": [],
   "source": [
    "preds_frames = filter_preds_score_video(preds.copy(), 0.5)"
   ]
  },
  {
   "cell_type": "code",
   "execution_count": 149,
   "id": "d55ce086",
   "metadata": {},
   "outputs": [],
   "source": [
    "preds_tube = filter_preds_score_video(preds.copy(), 0.5)\n",
    "pipes = tube_space_time(preds_tube, phase_corr, h=vid.videoInfo.getHeight(), w=vid.videoInfo.getWidth())\n",
    "filtered_pipes = filter_pipes(pipes, cut_exts=0, thr=0.4)\n",
    "preds_time = pipe_to_frame_instances(filtered_pipes, vid)"
   ]
  },
  {
   "cell_type": "code",
   "execution_count": 153,
   "id": "4e72bcdf",
   "metadata": {},
   "outputs": [],
   "source": [
    "def make_video_detections(video, detections, output_path, rescale_factor=0.5):  \n",
    "    \n",
    "    w,h = video.videoInfo.getWidthHeight()\n",
    "    \n",
    "    output_file = cv2.VideoWriter(\n",
    "                filename=output_path,\n",
    "                # some installation of opencv may not support x264 (due to its license),\n",
    "                # you can try other format (e.g. MPEG)\n",
    "                fourcc=cv2.VideoWriter_fourcc(*\"x264\"),\n",
    "                fps=video.videoInfo.getFrameRateFloat(),\n",
    "                frameSize=(int(w*rescale_factor), int(h*rescale_factor)),\n",
    "                isColor=True,\n",
    "            )    \n",
    "    \n",
    "    frame_gen = video.frame_from_video()\n",
    "        \n",
    "    for idx, frame in tqdm(enumerate(frame_gen), total=video.videoInfo.getNumberOfFrames()):\n",
    "        \n",
    "        if idx < 50:\n",
    "            continue\n",
    "        \n",
    "        \n",
    "        boxes = detections[f'frame_{idx:04d}']['instances'].get('pred_boxes').to('cpu').tensor        \n",
    "        res = add_bboxes_on_image(frame, boxes, color=(255,0,0))\n",
    "        res = cv2.resize(res,(int(w*rescale_factor), int(h*rescale_factor)))\n",
    "        output_file.write(res)\n",
    "        \n",
    "        if idx > 1008:\n",
    "            break\n",
    "        \n",
    "        \n",
    "    output_file.release()  "
   ]
  },
  {
   "cell_type": "code",
   "execution_count": 154,
   "id": "e3f4b269",
   "metadata": {},
   "outputs": [
    {
     "data": {
      "application/vnd.jupyter.widget-view+json": {
       "model_id": "c2979d693a0c420dba0b365b3304cd73",
       "version_major": 2,
       "version_minor": 0
      },
      "text/plain": [
       "HBox(children=(FloatProgress(value=0.0, max=3862.0), HTML(value='')))"
      ]
     },
     "metadata": {},
     "output_type": "display_data"
    },
    {
     "name": "stdout",
     "output_type": "stream",
     "text": [
      "\n"
     ]
    }
   ],
   "source": [
    "vid = videoObj(video_path)\n",
    "make_video_detections(vid, preds_time, output_path=f'{video_name}_tubes_part.mp4')"
   ]
  },
  {
   "cell_type": "code",
   "execution_count": 155,
   "id": "7a25786a",
   "metadata": {},
   "outputs": [
    {
     "data": {
      "application/vnd.jupyter.widget-view+json": {
       "model_id": "f3db95d113e243a48d5eab951748bc04",
       "version_major": 2,
       "version_minor": 0
      },
      "text/plain": [
       "HBox(children=(FloatProgress(value=0.0, max=3862.0), HTML(value='')))"
      ]
     },
     "metadata": {},
     "output_type": "display_data"
    },
    {
     "name": "stdout",
     "output_type": "stream",
     "text": [
      "\n"
     ]
    }
   ],
   "source": [
    "vid = videoObj(video_path)\n",
    "make_video_detections(vid, preds_frames, output_path=f'{video_name}_frames_part.mp4')"
   ]
  }
 ],
 "metadata": {
  "kernelspec": {
   "display_name": "Python 3",
   "language": "python",
   "name": "python3"
  },
  "language_info": {
   "codemirror_mode": {
    "name": "ipython",
    "version": 3
   },
   "file_extension": ".py",
   "mimetype": "text/x-python",
   "name": "python",
   "nbconvert_exporter": "python",
   "pygments_lexer": "ipython3",
   "version": "3.8.8"
  }
 },
 "nbformat": 4,
 "nbformat_minor": 5
}
