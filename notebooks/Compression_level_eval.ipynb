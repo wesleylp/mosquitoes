{
 "cells": [
  {
   "cell_type": "code",
   "execution_count": 1,
   "metadata": {},
   "outputs": [],
   "source": [
    "# the notebook will reload external python modules;\n",
    "%load_ext autoreload\n",
    "%autoreload 2"
   ]
  },
  {
   "cell_type": "code",
   "execution_count": 2,
   "metadata": {},
   "outputs": [],
   "source": [
    "import os\n",
    "import sys\n",
    "\n",
    "import warnings\n",
    "import numpy as np\n",
    "sys.path.append('../codes')\n",
    "warnings.filterwarnings(\"ignore\")\n",
    "from utils.vid_utils  import *\n",
    "from utils.plots import bar_plot\n",
    "import seaborn as sns\n",
    "import matplotlib.pyplot as plt"
   ]
  },
  {
   "cell_type": "code",
   "execution_count": 3,
   "metadata": {},
   "outputs": [],
   "source": [
    "sns.set('paper', 'white', 'colorblind', font_scale=2.2, \n",
    "        rc={'lines.linewidth': 2, \n",
    "            'figure.figsize': (10.0, 6.0), \n",
    "            'image.interpolation': 'nearest', \n",
    "            'image.cmap': 'gray'})"
   ]
  },
  {
   "cell_type": "code",
   "execution_count": 4,
   "metadata": {},
   "outputs": [],
   "source": [
    "data_path = '../data/DJI4_cam/2018-09-05/seq001/calibration'\n",
    "input_file = 'calibration.MOV'\n",
    "input_path = os.path.join(data_path,input_file)"
   ]
  },
  {
   "cell_type": "code",
   "execution_count": 5,
   "metadata": {},
   "outputs": [
    {
     "data": {
      "text/plain": [
       "'../data/DJI4_cam/2018-09-05/seq001/calibration/calibration.MOV'"
      ]
     },
     "execution_count": 5,
     "metadata": {},
     "output_type": "execute_result"
    }
   ],
   "source": [
    "input_path"
   ]
  },
  {
   "cell_type": "code",
   "execution_count": 6,
   "metadata": {},
   "outputs": [
    {
     "name": "stdout",
     "output_type": "stream",
     "text": [
      "calibration\t\t    calibration_imageio06.data\r\n",
      "calibration_imageio00\t    calibration_imageio06.MOV\r\n",
      "calibration_imageio00.data  calibration_imageio06.pdf\r\n",
      "calibration_imageio00.MOV   calibration_imageio07\r\n",
      "calibration_imageio00.pdf   calibration_imageio07.data\r\n",
      "calibration_imageio01\t    calibration_imageio07.MOV\r\n",
      "calibration_imageio01.data  calibration_imageio07.pdf\r\n",
      "calibration_imageio01.MOV   calibration_imageio08\r\n",
      "calibration_imageio01.pdf   calibration_imageio08.data\r\n",
      "calibration_imageio02\t    calibration_imageio08.MOV\r\n",
      "calibration_imageio02.data  calibration_imageio08.pdf\r\n",
      "calibration_imageio02.MOV   calibration_imageio09\r\n",
      "calibration_imageio02.pdf   calibration_imageio09.data\r\n",
      "calibration_imageio03\t    calibration_imageio09.MOV\r\n",
      "calibration_imageio03.data  calibration_imageio09.pdf\r\n",
      "calibration_imageio03.MOV   calibration_imageio10\r\n",
      "calibration_imageio03.pdf   calibration_imageio10.data\r\n",
      "calibration_imageio04\t    calibration_imageio10.MOV\r\n",
      "calibration_imageio04.data  calibration_imageio10.pdf\r\n",
      "calibration_imageio04.MOV   calibration.MOV\r\n",
      "calibration_imageio04.pdf   calibration_opencv\r\n",
      "calibration_imageio05\t    calibration_opencv.data\r\n",
      "calibration_imageio05.data  calibration_opencv.MOV\r\n",
      "calibration_imageio05.MOV   calibration_opencv.pdf\r\n",
      "calibration_imageio05.pdf   compare_opencv\r\n",
      "calibration_imageio06\r\n"
     ]
    }
   ],
   "source": [
    "! ls ../data/DJI4_cam/2018-09-05/seq001/calibration/"
   ]
  },
  {
   "cell_type": "markdown",
   "metadata": {},
   "source": [
    "## Generating Videos Using OpenCV"
   ]
  },
  {
   "cell_type": "code",
   "execution_count": 7,
   "metadata": {},
   "outputs": [],
   "source": [
    "output_file = 'calibration_opencv.MOV'\n",
    "output_path = os.path.join(data_path,output_file)"
   ]
  },
  {
   "cell_type": "code",
   "execution_count": 8,
   "metadata": {},
   "outputs": [
    {
     "data": {
      "text/plain": [
       "'../data/DJI4_cam/2018-09-05/seq001/calibration/calibration_opencv.MOV'"
      ]
     },
     "execution_count": 8,
     "metadata": {},
     "output_type": "execute_result"
    }
   ],
   "source": [
    "output_path"
   ]
  },
  {
   "cell_type": "code",
   "execution_count": 9,
   "metadata": {},
   "outputs": [
    {
     "name": "stdout",
     "output_type": "stream",
     "text": [
      "This may take a while...\n",
      "generating video: ../data/DJI4_cam/2018-09-05/seq001/calibration/calibration_opencv.MOV\n"
     ]
    },
    {
     "data": {
      "application/vnd.jupyter.widget-view+json": {
       "model_id": "4bba59dcca9d47b9b95a67bae4ff9598",
       "version_major": 2,
       "version_minor": 0
      },
      "text/html": [
       "<p>Failed to display Jupyter Widget of type <code>HBox</code>.</p>\n",
       "<p>\n",
       "  If you're reading this message in the Jupyter Notebook or JupyterLab Notebook, it may mean\n",
       "  that the widgets JavaScript is still loading. If this message persists, it\n",
       "  likely means that the widgets JavaScript library is either not installed or\n",
       "  not enabled. See the <a href=\"https://ipywidgets.readthedocs.io/en/stable/user_install.html\">Jupyter\n",
       "  Widgets Documentation</a> for setup instructions.\n",
       "</p>\n",
       "<p>\n",
       "  If you're reading this message in another frontend (for example, a static\n",
       "  rendering on GitHub or <a href=\"https://nbviewer.jupyter.org/\">NBViewer</a>),\n",
       "  it may mean that your frontend doesn't currently support widgets.\n",
       "</p>\n"
      ],
      "text/plain": [
       "HBox(children=(IntProgress(value=0, max=555), HTML(value='')))"
      ]
     },
     "metadata": {},
     "output_type": "display_data"
    },
    {
     "name": "stdout",
     "output_type": "stream",
     "text": [
      "\n"
     ]
    }
   ],
   "source": [
    "generate_video_opencv(input_path, output_path)"
   ]
  },
  {
   "cell_type": "markdown",
   "metadata": {},
   "source": [
    "### Evaluating Quality of Videos  Generated Using OpenCV"
   ]
  },
  {
   "cell_type": "code",
   "execution_count": 10,
   "metadata": {},
   "outputs": [],
   "source": [
    "save_path = os.path.join(data_path,'compare_opencv')"
   ]
  },
  {
   "cell_type": "code",
   "execution_count": 11,
   "metadata": {
    "scrolled": false
   },
   "outputs": [
    {
     "name": "stdout",
     "output_type": "stream",
     "text": [
      "Comparing videos... This may take a while... \n",
      "\n",
      "Video 1\n",
      "../data/DJI4_cam/2018-09-05/seq001/calibration/calibration.MOV\n",
      "video size: 140.64 MB\n",
      "fps: 47.95\n",
      "frames: 555\n",
      "resolution: (3840, 2160)\n",
      "\n",
      "\n",
      "Video 2\n",
      "../data/DJI4_cam/2018-09-05/seq001/calibration/calibration_opencv.MOV\n",
      "video size: 77.57 MB\n",
      "fps: 47.95\n",
      "frames: 555\n",
      "resolution: (3840, 2160)\n",
      "\n",
      "\n"
     ]
    },
    {
     "data": {
      "application/vnd.jupyter.widget-view+json": {
       "model_id": "4f93a4e8040a4e97a853935b4c37f291",
       "version_major": 2,
       "version_minor": 0
      },
      "text/html": [
       "<p>Failed to display Jupyter Widget of type <code>HBox</code>.</p>\n",
       "<p>\n",
       "  If you're reading this message in the Jupyter Notebook or JupyterLab Notebook, it may mean\n",
       "  that the widgets JavaScript is still loading. If this message persists, it\n",
       "  likely means that the widgets JavaScript library is either not installed or\n",
       "  not enabled. See the <a href=\"https://ipywidgets.readthedocs.io/en/stable/user_install.html\">Jupyter\n",
       "  Widgets Documentation</a> for setup instructions.\n",
       "</p>\n",
       "<p>\n",
       "  If you're reading this message in another frontend (for example, a static\n",
       "  rendering on GitHub or <a href=\"https://nbviewer.jupyter.org/\">NBViewer</a>),\n",
       "  it may mean that your frontend doesn't currently support widgets.\n",
       "</p>\n"
      ],
      "text/plain": [
       "HBox(children=(IntProgress(value=0, max=555), HTML(value='')))"
      ]
     },
     "metadata": {},
     "output_type": "display_data"
    },
    {
     "name": "stdout",
     "output_type": "stream",
     "text": [
      "\n"
     ]
    }
   ],
   "source": [
    "mse_opencv, psnr_opencv, ssim_opencv = compare_videos(input_path, output_path, compute_every=10,\n",
    "                                         save_frames=False, save_path=save_path)"
   ]
  },
  {
   "cell_type": "code",
   "execution_count": 12,
   "metadata": {},
   "outputs": [
    {
     "name": "stdout",
     "output_type": "stream",
     "text": [
      "MSE mean: 28.48\n",
      "PSNR mean: 33.70\n",
      "SSIM mean: 0.95\n"
     ]
    }
   ],
   "source": [
    "print('MSE mean: {:.2f}'.format(np.mean(mse_opencv)))\n",
    "print('PSNR mean: {:.2f}'.format(np.mean(psnr_opencv)))\n",
    "print('SSIM mean: {:.2f}'.format(np.mean(ssim_opencv)))"
   ]
  },
  {
   "cell_type": "code",
   "execution_count": 13,
   "metadata": {},
   "outputs": [
    {
     "data": {
      "text/plain": [
       "<module 'matplotlib.pyplot' from '/home/wesley.passos/miniconda3/envs/mosquitoes/lib/python3.6/site-packages/matplotlib/pyplot.py'>"
      ]
     },
     "execution_count": 13,
     "metadata": {},
     "output_type": "execute_result"
    },
    {
     "data": {
      "image/png": "[encoded data removed]",
      "text/plain": [
       "<Figure size 720x432 with 1 Axes>"
      ]
     },
     "metadata": {},
     "output_type": "display_data"
    }
   ],
   "source": [
    "bar_plot(mse_opencv)"
   ]
  },
  {
   "cell_type": "code",
   "execution_count": 14,
   "metadata": {},
   "outputs": [
    {
     "data": {
      "text/plain": [
       "<module 'matplotlib.pyplot' from '/home/wesley.passos/miniconda3/envs/mosquitoes/lib/python3.6/site-packages/matplotlib/pyplot.py'>"
      ]
     },
     "execution_count": 14,
     "metadata": {},
     "output_type": "execute_result"
    },
    {
     "data": {
      "image/png": "[encoded data removed]",
      "text/plain": [
       "<Figure size 720x432 with 1 Axes>"
      ]
     },
     "metadata": {},
     "output_type": "display_data"
    }
   ],
   "source": [
    "bar_plot(psnr_opencv)"
   ]
  },
  {
   "cell_type": "code",
   "execution_count": 15,
   "metadata": {},
   "outputs": [
    {
     "data": {
      "text/plain": [
       "<module 'matplotlib.pyplot' from '/home/wesley.passos/miniconda3/envs/mosquitoes/lib/python3.6/site-packages/matplotlib/pyplot.py'>"
      ]
     },
     "execution_count": 15,
     "metadata": {},
     "output_type": "execute_result"
    },
    {
     "data": {
      "image/png": "[encoded data removed]",
      "text/plain": [
       "<Figure size 720x432 with 1 Axes>"
      ]
     },
     "metadata": {},
     "output_type": "display_data"
    }
   ],
   "source": [
    "bar_plot(ssim_opencv)"
   ]
  }
 ],
 "metadata": {
  "kernelspec": {
   "display_name": "Python 3",
   "language": "python",
   "name": "python3"
  },
  "language_info": {
   "codemirror_mode": {
    "name": "ipython",
    "version": 3
   },
   "file_extension": ".py",
   "mimetype": "text/x-python",
   "name": "python",
   "nbconvert_exporter": "python",
   "pygments_lexer": "ipython3",
   "version": "3.6.4"
  }
 },
 "nbformat": 4,
 "nbformat_minor": 2
}
