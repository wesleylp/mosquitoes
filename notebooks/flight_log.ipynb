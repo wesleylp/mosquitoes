{
 "cells": [
  {
   "cell_type": "code",
   "execution_count": 1,
   "id": "oriental-coverage",
   "metadata": {},
   "outputs": [],
   "source": [
    "import numpy as np\n",
    "import pandas as pd\n",
    "import matplotlib.pyplot as plt\n",
    "import glob"
   ]
  },
  {
   "cell_type": "code",
   "execution_count": 55,
   "id": "similar-puppy",
   "metadata": {},
   "outputs": [
    {
     "data": {
      "text/html": [
       "<div>\n",
       "<style scoped>\n",
       "    .dataframe tbody tr th:only-of-type {\n",
       "        vertical-align: middle;\n",
       "    }\n",
       "\n",
       "    .dataframe tbody tr th {\n",
       "        vertical-align: top;\n",
       "    }\n",
       "\n",
       "    .dataframe thead th {\n",
       "        text-align: right;\n",
       "    }\n",
       "</style>\n",
       "<table border=\"1\" class=\"dataframe\">\n",
       "  <thead>\n",
       "    <tr style=\"text-align: right;\">\n",
       "      <th></th>\n",
       "      <th>latitude</th>\n",
       "      <th>longitude</th>\n",
       "      <th>altitude(m)</th>\n",
       "      <th>ultrasonicHeight(m)</th>\n",
       "      <th>speed(mps)</th>\n",
       "      <th>distance(m)</th>\n",
       "      <th>max_altitude(m)</th>\n",
       "      <th>max_ascent(m)</th>\n",
       "      <th>max_speed(mps)</th>\n",
       "      <th>max_distance(m)</th>\n",
       "      <th>...</th>\n",
       "      <th>rcTransform</th>\n",
       "      <th>rcJoystickMode</th>\n",
       "      <th>appMode</th>\n",
       "      <th>FlyControllerSerialNumber_legacy</th>\n",
       "      <th>RemoteSerialNumber_legacy</th>\n",
       "      <th>BatterySerialNumber_legacy</th>\n",
       "      <th>Battery2SerialNumber</th>\n",
       "      <th>frontAvoidDist</th>\n",
       "      <th>backAvoidDist</th>\n",
       "      <th>isBrakingToAvoid</th>\n",
       "    </tr>\n",
       "  </thead>\n",
       "  <tbody>\n",
       "    <tr>\n",
       "      <th>0</th>\n",
       "      <td>-22.926984</td>\n",
       "      <td>-43.637102</td>\n",
       "      <td>1.4</td>\n",
       "      <td>1.6</td>\n",
       "      <td>3.61</td>\n",
       "      <td>4.02</td>\n",
       "      <td>1.4</td>\n",
       "      <td>1.4</td>\n",
       "      <td>3.61</td>\n",
       "      <td>4.02</td>\n",
       "      <td>...</td>\n",
       "      <td>0</td>\n",
       "      <td>2</td>\n",
       "      <td>1</td>\n",
       "      <td>NaN</td>\n",
       "      <td>NaN</td>\n",
       "      <td>NaN</td>\n",
       "      <td>NaN</td>\n",
       "      <td>7.8</td>\n",
       "      <td>7.8</td>\n",
       "      <td>0</td>\n",
       "    </tr>\n",
       "    <tr>\n",
       "      <th>1</th>\n",
       "      <td>-22.926984</td>\n",
       "      <td>-43.637102</td>\n",
       "      <td>1.8</td>\n",
       "      <td>2.0</td>\n",
       "      <td>4.10</td>\n",
       "      <td>0.24</td>\n",
       "      <td>1.8</td>\n",
       "      <td>1.8</td>\n",
       "      <td>4.10</td>\n",
       "      <td>4.02</td>\n",
       "      <td>...</td>\n",
       "      <td>0</td>\n",
       "      <td>2</td>\n",
       "      <td>1</td>\n",
       "      <td>NaN</td>\n",
       "      <td>NaN</td>\n",
       "      <td>NaN</td>\n",
       "      <td>NaN</td>\n",
       "      <td>7.8</td>\n",
       "      <td>7.8</td>\n",
       "      <td>0</td>\n",
       "    </tr>\n",
       "    <tr>\n",
       "      <th>2</th>\n",
       "      <td>-22.926984</td>\n",
       "      <td>-43.637102</td>\n",
       "      <td>2.2</td>\n",
       "      <td>2.4</td>\n",
       "      <td>4.50</td>\n",
       "      <td>0.26</td>\n",
       "      <td>2.2</td>\n",
       "      <td>2.2</td>\n",
       "      <td>4.50</td>\n",
       "      <td>4.02</td>\n",
       "      <td>...</td>\n",
       "      <td>0</td>\n",
       "      <td>2</td>\n",
       "      <td>1</td>\n",
       "      <td>NaN</td>\n",
       "      <td>NaN</td>\n",
       "      <td>NaN</td>\n",
       "      <td>NaN</td>\n",
       "      <td>7.8</td>\n",
       "      <td>7.8</td>\n",
       "      <td>0</td>\n",
       "    </tr>\n",
       "    <tr>\n",
       "      <th>3</th>\n",
       "      <td>-22.926985</td>\n",
       "      <td>-43.637102</td>\n",
       "      <td>2.7</td>\n",
       "      <td>2.9</td>\n",
       "      <td>4.80</td>\n",
       "      <td>0.27</td>\n",
       "      <td>2.7</td>\n",
       "      <td>2.7</td>\n",
       "      <td>4.80</td>\n",
       "      <td>4.02</td>\n",
       "      <td>...</td>\n",
       "      <td>0</td>\n",
       "      <td>2</td>\n",
       "      <td>1</td>\n",
       "      <td>NaN</td>\n",
       "      <td>NaN</td>\n",
       "      <td>NaN</td>\n",
       "      <td>NaN</td>\n",
       "      <td>7.8</td>\n",
       "      <td>7.8</td>\n",
       "      <td>0</td>\n",
       "    </tr>\n",
       "    <tr>\n",
       "      <th>4</th>\n",
       "      <td>-22.926985</td>\n",
       "      <td>-43.637102</td>\n",
       "      <td>3.2</td>\n",
       "      <td>3.4</td>\n",
       "      <td>4.90</td>\n",
       "      <td>0.27</td>\n",
       "      <td>3.2</td>\n",
       "      <td>3.2</td>\n",
       "      <td>4.90</td>\n",
       "      <td>4.02</td>\n",
       "      <td>...</td>\n",
       "      <td>0</td>\n",
       "      <td>2</td>\n",
       "      <td>1</td>\n",
       "      <td>NaN</td>\n",
       "      <td>NaN</td>\n",
       "      <td>NaN</td>\n",
       "      <td>NaN</td>\n",
       "      <td>7.8</td>\n",
       "      <td>7.7</td>\n",
       "      <td>0</td>\n",
       "    </tr>\n",
       "  </tbody>\n",
       "</table>\n",
       "<p>5 rows × 92 columns</p>\n",
       "</div>"
      ],
      "text/plain": [
       "    latitude  longitude  altitude(m)  ultrasonicHeight(m)  speed(mps)  \\\n",
       "0 -22.926984 -43.637102          1.4                  1.6        3.61   \n",
       "1 -22.926984 -43.637102          1.8                  2.0        4.10   \n",
       "2 -22.926984 -43.637102          2.2                  2.4        4.50   \n",
       "3 -22.926985 -43.637102          2.7                  2.9        4.80   \n",
       "4 -22.926985 -43.637102          3.2                  3.4        4.90   \n",
       "\n",
       "   distance(m)  max_altitude(m)  max_ascent(m)  max_speed(mps)  \\\n",
       "0         4.02              1.4            1.4            3.61   \n",
       "1         0.24              1.8            1.8            4.10   \n",
       "2         0.26              2.2            2.2            4.50   \n",
       "3         0.27              2.7            2.7            4.80   \n",
       "4         0.27              3.2            3.2            4.90   \n",
       "\n",
       "   max_distance(m)        ...         rcTransform rcJoystickMode appMode  \\\n",
       "0             4.02        ...                   0              2       1   \n",
       "1             4.02        ...                   0              2       1   \n",
       "2             4.02        ...                   0              2       1   \n",
       "3             4.02        ...                   0              2       1   \n",
       "4             4.02        ...                   0              2       1   \n",
       "\n",
       "   FlyControllerSerialNumber_legacy  RemoteSerialNumber_legacy  \\\n",
       "0                               NaN                        NaN   \n",
       "1                               NaN                        NaN   \n",
       "2                               NaN                        NaN   \n",
       "3                               NaN                        NaN   \n",
       "4                               NaN                        NaN   \n",
       "\n",
       "   BatterySerialNumber_legacy  Battery2SerialNumber  frontAvoidDist  \\\n",
       "0                         NaN                   NaN             7.8   \n",
       "1                         NaN                   NaN             7.8   \n",
       "2                         NaN                   NaN             7.8   \n",
       "3                         NaN                   NaN             7.8   \n",
       "4                         NaN                   NaN             7.8   \n",
       "\n",
       "   backAvoidDist  isBrakingToAvoid  \n",
       "0            7.8                 0  \n",
       "1            7.8                 0  \n",
       "2            7.8                 0  \n",
       "3            7.8                 0  \n",
       "4            7.7                 0  \n",
       "\n",
       "[5 rows x 92 columns]"
      ]
     },
     "execution_count": 55,
     "metadata": {},
     "output_type": "execute_result"
    }
   ],
   "source": [
    "df = pd.read_csv(\"/home/wesley/Downloads/flightlogs/20210203/2021-02-03_09-27-30_v2.csv\")\n",
    "df.head()"
   ]
  },
  {
   "cell_type": "code",
   "execution_count": 56,
   "id": "monetary-clause",
   "metadata": {},
   "outputs": [],
   "source": [
    "# df.keys().tolist()"
   ]
  },
  {
   "cell_type": "code",
   "execution_count": 57,
   "id": "fabulous-video",
   "metadata": {},
   "outputs": [
    {
     "data": {
      "image/png": "[encoded data removed]",
      "text/plain": [
       "<Figure size 864x432 with 1 Axes>"
      ]
     },
     "metadata": {
      "needs_background": "light"
     },
     "output_type": "display_data"
    }
   ],
   "source": [
    "plt.figure(figsize=(12,6))\n",
    "plt.plot(df['timestamp'], 40*df['isTakingVideo'], 'o', )\n",
    "plt.plot(df['timestamp'],  df['altitude(m)'], label='altitude [m]')\n",
    "plt.legend()\n",
    "plt.ylim([0, 50])\n",
    "plt.ylabel('altitude [m]')\n",
    "plt.xlabel('timestamp')\n",
    "plt.show()"
   ]
  },
  {
   "cell_type": "code",
   "execution_count": 23,
   "id": "recognized-aquarium",
   "metadata": {},
   "outputs": [
    {
     "name": "stdout",
     "output_type": "stream",
     "text": [
      "[ 712 6897]\n"
     ]
    },
    {
     "data": {
      "image/png": "[encoded data removed]",
      "text/plain": [
       "<Figure size 432x288 with 1 Axes>"
      ]
     },
     "metadata": {
      "needs_background": "light"
     },
     "output_type": "display_data"
    }
   ],
   "source": [
    "mask = df['isTakingVideo'] == True\n",
    "diff = np.diff(mask)\n",
    "\n",
    "plt.plot(diff, 'o')\n",
    "\n",
    "breaking_indexes = np.where(diff == 1)[0]\n",
    "print(breaking_indexes)"
   ]
  },
  {
   "cell_type": "code",
   "execution_count": 24,
   "id": "focused-dancing",
   "metadata": {},
   "outputs": [
    {
     "data": {
      "text/plain": [
       "3"
      ]
     },
     "execution_count": 24,
     "metadata": {},
     "output_type": "execute_result"
    }
   ],
   "source": [
    "split_dfs = np.split(df, breaking_indexes+1, axis=0)\n",
    "len(split_dfs)"
   ]
  },
  {
   "cell_type": "code",
   "execution_count": 25,
   "id": "suitable-maximum",
   "metadata": {},
   "outputs": [
    {
     "data": {
      "text/plain": [
       "[<matplotlib.lines.Line2D at 0x7f70912c6160>]"
      ]
     },
     "execution_count": 25,
     "metadata": {},
     "output_type": "execute_result"
    },
    {
     "data": {
      "image/png": "[encoded data removed]",
      "text/plain": [
       "<Figure size 1080x216 with 1 Axes>"
      ]
     },
     "metadata": {
      "needs_background": "light"
     },
     "output_type": "display_data"
    }
   ],
   "source": [
    "plt.figure(figsize=(15,3))\n",
    "for d in range(len(split_dfs)):    \n",
    "    plt.plot(40*split_dfs[d]['isTakingVideo'], 'o')\n",
    "    \n",
    "plt.plot(df['altitude(m)'])"
   ]
  },
  {
   "cell_type": "code",
   "execution_count": 28,
   "id": "english-refund",
   "metadata": {},
   "outputs": [],
   "source": [
    "def split_df(df):\n",
    "    mask = df['isTakingVideo'] == True\n",
    "    diff = np.diff(mask)\n",
    "    breaking_indexes = np.where(diff == 1)[0]\n",
    "    split_df = np.split(df, breaking_indexes+1, axis=0)\n",
    "    \n",
    "    return split_df    "
   ]
  },
  {
   "cell_type": "code",
   "execution_count": 26,
   "id": "furnished-theme",
   "metadata": {},
   "outputs": [],
   "source": [
    "list_csvs = glob.glob(\"/home/wesley/Downloads/flightlogs/20190601/2019-06-01_10-37-51_v2.csv\", recursive=True)"
   ]
  },
  {
   "cell_type": "code",
   "execution_count": 27,
   "id": "fleet-christopher",
   "metadata": {},
   "outputs": [
    {
     "ename": "NameError",
     "evalue": "name 'split_df' is not defined",
     "output_type": "error",
     "traceback": [
      "\u001b[0;31m---------------------------------------------------------------------------\u001b[0m",
      "\u001b[0;31mNameError\u001b[0m                                 Traceback (most recent call last)",
      "\u001b[0;32m<ipython-input-27-0eced3830ced>\u001b[0m in \u001b[0;36m<module>\u001b[0;34m\u001b[0m\n\u001b[1;32m      1\u001b[0m \u001b[0;32mfor\u001b[0m \u001b[0mcsv\u001b[0m \u001b[0;32min\u001b[0m \u001b[0mlist_csvs\u001b[0m\u001b[0;34m:\u001b[0m\u001b[0;34m\u001b[0m\u001b[0;34m\u001b[0m\u001b[0m\n\u001b[1;32m      2\u001b[0m     \u001b[0mdf\u001b[0m \u001b[0;34m=\u001b[0m \u001b[0mpd\u001b[0m\u001b[0;34m.\u001b[0m\u001b[0mread_csv\u001b[0m\u001b[0;34m(\u001b[0m\u001b[0mcsv\u001b[0m\u001b[0;34m)\u001b[0m\u001b[0;34m\u001b[0m\u001b[0;34m\u001b[0m\u001b[0m\n\u001b[0;32m----> 3\u001b[0;31m     \u001b[0msplitted_dfs\u001b[0m \u001b[0;34m=\u001b[0m \u001b[0msplit_df\u001b[0m\u001b[0;34m(\u001b[0m\u001b[0mdf\u001b[0m\u001b[0;34m)\u001b[0m\u001b[0;34m\u001b[0m\u001b[0;34m\u001b[0m\u001b[0m\n\u001b[0m\u001b[1;32m      4\u001b[0m \u001b[0;34m\u001b[0m\u001b[0m\n\u001b[1;32m      5\u001b[0m     \u001b[0mcount\u001b[0m \u001b[0;34m=\u001b[0m \u001b[0;36m0\u001b[0m\u001b[0;34m\u001b[0m\u001b[0;34m\u001b[0m\u001b[0m\n",
      "\u001b[0;31mNameError\u001b[0m: name 'split_df' is not defined"
     ]
    }
   ],
   "source": [
    "for csv in list_csvs:\n",
    "    df = pd.read_csv(csv)\n",
    "    splitted_dfs = split_df(df)\n",
    "    \n",
    "    count = 0\n",
    "    part = 0\n",
    "    for splitted_df in splitted_dfs:\n",
    "        if count % 2 != 0:            \n",
    "            splitted_df.to_csv(csv.replace('.csv', f'_part{part}.csv'), index=False)\n",
    "            part += 1\n",
    "        count += 1    "
   ]
  },
  {
   "cell_type": "code",
   "execution_count": 60,
   "id": "exclusive-preference",
   "metadata": {},
   "outputs": [
    {
     "data": {
      "text/plain": [
       "2.4724999999999997"
      ]
     },
     "execution_count": 60,
     "metadata": {},
     "output_type": "execute_result"
    },
    {
     "data": {
      "image/png": "[encoded data removed]",
      "text/plain": [
       "<Figure size 864x432 with 1 Axes>"
      ]
     },
     "metadata": {
      "needs_background": "light"
     },
     "output_type": "display_data"
    }
   ],
   "source": [
    "df_part = pd.read_csv('/home/wesley/Downloads/flightlogs/20210203/20210203_DJI_0059.csv')\n",
    "\n",
    "plt.figure(figsize=(12,6))\n",
    "plt.plot(df_part['timestamp'], 40*df_part['isTakingVideo'], 'o', )\n",
    "plt.plot(df_part['timestamp'], df_part['altitude(m)'], label='altitude [m]')\n",
    "plt.legend()\n",
    "plt.ylabel('altitude [m]')\n",
    "plt.xlabel('timestamp')\n",
    "plt.ylim([0, 50])\n",
    "\n",
    "(df_part['time(millisecond)'].iloc[-1] - df_part['time(millisecond)'].iloc[0])/1e3/60"
   ]
  },
  {
   "cell_type": "code",
   "execution_count": null,
   "id": "greenhouse-greek",
   "metadata": {},
   "outputs": [],
   "source": []
  }
 ],
 "metadata": {
  "kernelspec": {
   "display_name": "Python 3",
   "language": "python",
   "name": "python3"
  },
  "language_info": {
   "codemirror_mode": {
    "name": "ipython",
    "version": 3
   },
   "file_extension": ".py",
   "mimetype": "text/x-python",
   "name": "python",
   "nbconvert_exporter": "python",
   "pygments_lexer": "ipython3",
   "version": "3.6.7"
  }
 },
 "nbformat": 4,
 "nbformat_minor": 5
}
