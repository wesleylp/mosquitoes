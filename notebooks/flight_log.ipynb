{
 "cells": [
  {
   "cell_type": "code",
   "execution_count": 1,
   "id": "bfbd961a",
   "metadata": {},
   "outputs": [],
   "source": [
    "## Cutting fligh logs and keeping the samples correpondent to video"
   ]
  },
  {
   "cell_type": "code",
   "execution_count": 2,
   "id": "c7442d91",
   "metadata": {},
   "outputs": [
    {
     "name": "stderr",
     "output_type": "stream",
     "text": [
      "../codes/video_handling.py:12: TqdmExperimentalWarning: Using `tqdm.autonotebook.tqdm` in notebook mode. Use `tqdm.tqdm` instead to force console mode (e.g. in jupyter console)\n",
      "  from tqdm.autonotebook import tqdm\n"
     ]
    }
   ],
   "source": [
    "import numpy as np\n",
    "import pandas as pd\n",
    "import matplotlib.pyplot as plt\n",
    "import glob\n",
    "\n",
    "import sys\n",
    "\n",
    "sys.path.append(\"../codes/\")\n",
    "\n",
    "from video_handling import videoObj"
   ]
  },
  {
   "cell_type": "code",
   "execution_count": 3,
   "id": "bb91a237",
   "metadata": {
    "scrolled": true
   },
   "outputs": [
    {
     "data": {
      "text/html": [
       "<div>\n",
       "<style scoped>\n",
       "    .dataframe tbody tr th:only-of-type {\n",
       "        vertical-align: middle;\n",
       "    }\n",
       "\n",
       "    .dataframe tbody tr th {\n",
       "        vertical-align: top;\n",
       "    }\n",
       "\n",
       "    .dataframe thead th {\n",
       "        text-align: right;\n",
       "    }\n",
       "</style>\n",
       "<table border=\"1\" class=\"dataframe\">\n",
       "  <thead>\n",
       "    <tr style=\"text-align: right;\">\n",
       "      <th></th>\n",
       "      <th>latitude</th>\n",
       "      <th>longitude</th>\n",
       "      <th>altitude(m)</th>\n",
       "      <th>ultrasonicHeight(m)</th>\n",
       "      <th>speed(mps)</th>\n",
       "      <th>distance(m)</th>\n",
       "      <th>max_altitude(m)</th>\n",
       "      <th>max_ascent(m)</th>\n",
       "      <th>max_speed(mps)</th>\n",
       "      <th>max_distance(m)</th>\n",
       "      <th>...</th>\n",
       "      <th>rcTransform</th>\n",
       "      <th>rcJoystickMode</th>\n",
       "      <th>appMode</th>\n",
       "      <th>FlyControllerSerialNumber_legacy</th>\n",
       "      <th>RemoteSerialNumber_legacy</th>\n",
       "      <th>BatterySerialNumber_legacy</th>\n",
       "      <th>Battery2SerialNumber</th>\n",
       "      <th>frontAvoidDist</th>\n",
       "      <th>backAvoidDist</th>\n",
       "      <th>isBrakingToAvoid</th>\n",
       "    </tr>\n",
       "  </thead>\n",
       "  <tbody>\n",
       "    <tr>\n",
       "      <th>419</th>\n",
       "      <td>-22.705080</td>\n",
       "      <td>-43.461131</td>\n",
       "      <td>40.3</td>\n",
       "      <td>0.0</td>\n",
       "      <td>0.14</td>\n",
       "      <td>174.91</td>\n",
       "      <td>40.4</td>\n",
       "      <td>40.4</td>\n",
       "      <td>8.3</td>\n",
       "      <td>175.33</td>\n",
       "      <td>...</td>\n",
       "      <td>0</td>\n",
       "      <td>2</td>\n",
       "      <td>1</td>\n",
       "      <td>NaN</td>\n",
       "      <td>NaN</td>\n",
       "      <td>NaN</td>\n",
       "      <td>NaN</td>\n",
       "      <td>0.0</td>\n",
       "      <td>0.0</td>\n",
       "      <td>0</td>\n",
       "    </tr>\n",
       "    <tr>\n",
       "      <th>420</th>\n",
       "      <td>-22.705080</td>\n",
       "      <td>-43.461131</td>\n",
       "      <td>40.3</td>\n",
       "      <td>0.0</td>\n",
       "      <td>0.32</td>\n",
       "      <td>174.90</td>\n",
       "      <td>40.4</td>\n",
       "      <td>40.4</td>\n",
       "      <td>8.3</td>\n",
       "      <td>175.33</td>\n",
       "      <td>...</td>\n",
       "      <td>0</td>\n",
       "      <td>2</td>\n",
       "      <td>1</td>\n",
       "      <td>NaN</td>\n",
       "      <td>NaN</td>\n",
       "      <td>NaN</td>\n",
       "      <td>NaN</td>\n",
       "      <td>0.0</td>\n",
       "      <td>0.0</td>\n",
       "      <td>0</td>\n",
       "    </tr>\n",
       "    <tr>\n",
       "      <th>421</th>\n",
       "      <td>-22.705080</td>\n",
       "      <td>-43.461131</td>\n",
       "      <td>40.3</td>\n",
       "      <td>0.0</td>\n",
       "      <td>0.51</td>\n",
       "      <td>174.89</td>\n",
       "      <td>40.4</td>\n",
       "      <td>40.4</td>\n",
       "      <td>8.3</td>\n",
       "      <td>175.33</td>\n",
       "      <td>...</td>\n",
       "      <td>0</td>\n",
       "      <td>2</td>\n",
       "      <td>1</td>\n",
       "      <td>NaN</td>\n",
       "      <td>NaN</td>\n",
       "      <td>NaN</td>\n",
       "      <td>NaN</td>\n",
       "      <td>0.0</td>\n",
       "      <td>0.0</td>\n",
       "      <td>0</td>\n",
       "    </tr>\n",
       "    <tr>\n",
       "      <th>422</th>\n",
       "      <td>-22.705080</td>\n",
       "      <td>-43.461131</td>\n",
       "      <td>40.3</td>\n",
       "      <td>0.0</td>\n",
       "      <td>0.73</td>\n",
       "      <td>174.86</td>\n",
       "      <td>40.4</td>\n",
       "      <td>40.4</td>\n",
       "      <td>8.3</td>\n",
       "      <td>175.33</td>\n",
       "      <td>...</td>\n",
       "      <td>0</td>\n",
       "      <td>2</td>\n",
       "      <td>1</td>\n",
       "      <td>NaN</td>\n",
       "      <td>NaN</td>\n",
       "      <td>NaN</td>\n",
       "      <td>NaN</td>\n",
       "      <td>0.0</td>\n",
       "      <td>0.0</td>\n",
       "      <td>0</td>\n",
       "    </tr>\n",
       "    <tr>\n",
       "      <th>423</th>\n",
       "      <td>-22.705079</td>\n",
       "      <td>-43.461131</td>\n",
       "      <td>40.3</td>\n",
       "      <td>0.0</td>\n",
       "      <td>0.91</td>\n",
       "      <td>174.83</td>\n",
       "      <td>40.4</td>\n",
       "      <td>40.4</td>\n",
       "      <td>8.3</td>\n",
       "      <td>175.33</td>\n",
       "      <td>...</td>\n",
       "      <td>0</td>\n",
       "      <td>2</td>\n",
       "      <td>1</td>\n",
       "      <td>NaN</td>\n",
       "      <td>NaN</td>\n",
       "      <td>NaN</td>\n",
       "      <td>NaN</td>\n",
       "      <td>0.0</td>\n",
       "      <td>0.0</td>\n",
       "      <td>0</td>\n",
       "    </tr>\n",
       "  </tbody>\n",
       "</table>\n",
       "<p>5 rows × 92 columns</p>\n",
       "</div>"
      ],
      "text/plain": [
       "      latitude  longitude  altitude(m)  ultrasonicHeight(m)  speed(mps)  \\\n",
       "419 -22.705080 -43.461131         40.3                  0.0        0.14   \n",
       "420 -22.705080 -43.461131         40.3                  0.0        0.32   \n",
       "421 -22.705080 -43.461131         40.3                  0.0        0.51   \n",
       "422 -22.705080 -43.461131         40.3                  0.0        0.73   \n",
       "423 -22.705079 -43.461131         40.3                  0.0        0.91   \n",
       "\n",
       "     distance(m)  max_altitude(m)  max_ascent(m)  max_speed(mps)  \\\n",
       "419       174.91             40.4           40.4             8.3   \n",
       "420       174.90             40.4           40.4             8.3   \n",
       "421       174.89             40.4           40.4             8.3   \n",
       "422       174.86             40.4           40.4             8.3   \n",
       "423       174.83             40.4           40.4             8.3   \n",
       "\n",
       "     max_distance(m)  ...  rcTransform rcJoystickMode appMode  \\\n",
       "419           175.33  ...            0              2       1   \n",
       "420           175.33  ...            0              2       1   \n",
       "421           175.33  ...            0              2       1   \n",
       "422           175.33  ...            0              2       1   \n",
       "423           175.33  ...            0              2       1   \n",
       "\n",
       "     FlyControllerSerialNumber_legacy  RemoteSerialNumber_legacy  \\\n",
       "419                               NaN                        NaN   \n",
       "420                               NaN                        NaN   \n",
       "421                               NaN                        NaN   \n",
       "422                               NaN                        NaN   \n",
       "423                               NaN                        NaN   \n",
       "\n",
       "     BatterySerialNumber_legacy  Battery2SerialNumber  frontAvoidDist  \\\n",
       "419                         NaN                   NaN             0.0   \n",
       "420                         NaN                   NaN             0.0   \n",
       "421                         NaN                   NaN             0.0   \n",
       "422                         NaN                   NaN             0.0   \n",
       "423                         NaN                   NaN             0.0   \n",
       "\n",
       "     backAvoidDist  isBrakingToAvoid  \n",
       "419            0.0                 0  \n",
       "420            0.0                 0  \n",
       "421            0.0                 0  \n",
       "422            0.0                 0  \n",
       "423            0.0                 0  \n",
       "\n",
       "[5 rows x 92 columns]"
      ]
     },
     "execution_count": 3,
     "metadata": {},
     "output_type": "execute_result"
    }
   ],
   "source": [
    "df = pd.read_csv(\"../data/v1/flightlogs/CEFET/2019-10-31_17-48-21_v2.csv\")\n",
    "df[df['isTakingVideo']==True].head()"
   ]
  },
  {
   "cell_type": "code",
   "execution_count": 4,
   "id": "a6607e8f",
   "metadata": {},
   "outputs": [
    {
     "data": {
      "text/plain": [
       "273877"
      ]
     },
     "execution_count": 4,
     "metadata": {},
     "output_type": "execute_result"
    }
   ],
   "source": [
    "df[df['isTakingVideo'] == True]['time(millisecond)'].iloc[-1] - df[df['isTakingVideo'] == True]['time(millisecond)'].iloc[0]"
   ]
  },
  {
   "cell_type": "code",
   "execution_count": 5,
   "id": "2ffa3761",
   "metadata": {},
   "outputs": [],
   "source": [
    "# df.keys().tolist()"
   ]
  },
  {
   "cell_type": "code",
   "execution_count": 6,
   "id": "c884e57f",
   "metadata": {},
   "outputs": [
    {
     "data": {
      "image/png": "[encoded data removed]",
      "text/plain": [
       "<Figure size 864x432 with 1 Axes>"
      ]
     },
     "metadata": {
      "needs_background": "light"
     },
     "output_type": "display_data"
    }
   ],
   "source": [
    "plt.figure(figsize=(12,6))\n",
    "plt.plot(df['timestamp'], 40*df['isTakingVideo'], 'o', )\n",
    "plt.plot(df['timestamp'],  df['altitude(m)'], label='altitude [m]')\n",
    "plt.legend()\n",
    "plt.ylim([0, 50])\n",
    "plt.ylabel('altitude [m]')\n",
    "plt.xlabel('timestamp')\n",
    "plt.show()"
   ]
  },
  {
   "cell_type": "code",
   "execution_count": 7,
   "id": "f3161c2c",
   "metadata": {},
   "outputs": [
    {
     "name": "stdout",
     "output_type": "stream",
     "text": [
      "[ 418 2866]\n"
     ]
    },
    {
     "data": {
      "image/png": "[encoded data removed]",
      "text/plain": [
       "<Figure size 432x288 with 1 Axes>"
      ]
     },
     "metadata": {
      "needs_background": "light"
     },
     "output_type": "display_data"
    }
   ],
   "source": [
    "mask = df['isTakingVideo'] == True\n",
    "diff = np.diff(mask)\n",
    "\n",
    "plt.plot(diff, 'o')\n",
    "\n",
    "breaking_indexes = np.where(diff == 1)[0]\n",
    "print(breaking_indexes)"
   ]
  },
  {
   "cell_type": "code",
   "execution_count": 8,
   "id": "02dee599",
   "metadata": {},
   "outputs": [
    {
     "data": {
      "text/plain": [
       "3"
      ]
     },
     "execution_count": 8,
     "metadata": {},
     "output_type": "execute_result"
    }
   ],
   "source": [
    "split_dfs = np.split(df, breaking_indexes+1, axis=0)\n",
    "len(split_dfs)"
   ]
  },
  {
   "cell_type": "code",
   "execution_count": 9,
   "id": "76881152",
   "metadata": {},
   "outputs": [
    {
     "data": {
      "text/plain": [
       "[<matplotlib.lines.Line2D at 0x7f49875f6430>]"
      ]
     },
     "execution_count": 9,
     "metadata": {},
     "output_type": "execute_result"
    },
    {
     "data": {
      "image/png": "[encoded data removed]",
      "text/plain": [
       "<Figure size 1080x216 with 1 Axes>"
      ]
     },
     "metadata": {
      "needs_background": "light"
     },
     "output_type": "display_data"
    }
   ],
   "source": [
    "plt.figure(figsize=(15,3))\n",
    "for d in range(len(split_dfs)):    \n",
    "    plt.plot(40*split_dfs[d]['isTakingVideo'], 'o')\n",
    "    \n",
    "plt.plot(df['altitude(m)'])"
   ]
  },
  {
   "cell_type": "code",
   "execution_count": 10,
   "id": "3d68b1a5",
   "metadata": {},
   "outputs": [],
   "source": [
    "def split_df(df):\n",
    "    mask = df['isTakingVideo'] == True\n",
    "    diff = np.diff(mask)\n",
    "    breaking_indexes = np.where(diff == 1)[0]\n",
    "    split_df = np.split(df, breaking_indexes+1, axis=0)\n",
    "    \n",
    "    return split_df    "
   ]
  },
  {
   "cell_type": "code",
   "execution_count": 11,
   "id": "a2b59c23",
   "metadata": {},
   "outputs": [],
   "source": [
    "list_csvs = glob.glob(\"../data/v1/flightlogs/CEFET/2019-10-31_17-48-21_v2.csv\", recursive=True)"
   ]
  },
  {
   "cell_type": "code",
   "execution_count": 12,
   "id": "708eaad4",
   "metadata": {},
   "outputs": [],
   "source": [
    "for csv in list_csvs:\n",
    "    df = pd.read_csv(csv)\n",
    "    splitted_dfs = split_df(df)\n",
    "    \n",
    "    count = 0\n",
    "    part = 0\n",
    "    for splitted_df in splitted_dfs:\n",
    "        if count % 2 != 0:           \n",
    "            #uncomment the following line to save the csv\n",
    "#             splitted_df.to_csv(csv.replace('.csv', f'_part{part}.csv'), index=False)\n",
    "            part += 1\n",
    "        count += 1    "
   ]
  },
  {
   "cell_type": "code",
   "execution_count": 13,
   "id": "8feda4d4",
   "metadata": {},
   "outputs": [
    {
     "data": {
      "text/plain": [
       "0.8463499999999999"
      ]
     },
     "execution_count": 13,
     "metadata": {},
     "output_type": "execute_result"
    },
    {
     "data": {
      "image/png": "[encoded data removed]",
      "text/plain": [
       "<Figure size 864x432 with 1 Axes>"
      ]
     },
     "metadata": {
      "needs_background": "light"
     },
     "output_type": "display_data"
    }
   ],
   "source": [
    "df_part = pd.read_csv('../data/v1/flightlogs/CEFET/2019-10-31_17-36-41_v2_talvez 2_part1.csv')\n",
    "\n",
    "plt.figure(figsize=(12,6))\n",
    "plt.plot(df_part['timestamp'], 40*df_part['isTakingVideo'], 'o', )\n",
    "plt.plot(df_part['timestamp'], df_part['altitude(m)'], label='altitude [m]')\n",
    "plt.legend()\n",
    "plt.ylabel('altitude [m]')\n",
    "plt.xlabel('timestamp')\n",
    "plt.ylim([0, 50])\n",
    "\n",
    "(df_part['time(millisecond)'].iloc[-1] - df_part['time(millisecond)'].iloc[0])/1e3/60"
   ]
  },
  {
   "cell_type": "markdown",
   "id": "ff1fc97d",
   "metadata": {},
   "source": [
    "## PROCESSING"
   ]
  },
  {
   "cell_type": "code",
   "execution_count": 14,
   "id": "3dac691c",
   "metadata": {},
   "outputs": [],
   "source": [
    "# inteporlating so that each sample in fligh log corresponds to a frame in video"
   ]
  },
  {
   "cell_type": "code",
   "execution_count": 15,
   "id": "b4e1b36a",
   "metadata": {},
   "outputs": [],
   "source": [
    "import pandas as pd\n",
    "import matplotlib.pyplot as plt\n",
    "import numpy as np"
   ]
  },
  {
   "cell_type": "code",
   "execution_count": 16,
   "id": "760247e0",
   "metadata": {},
   "outputs": [],
   "source": [
    "video_name = \"20180919_rectified_DJI_0019\"\n",
    "df = pd.read_csv(f\"../data/v1/flightlogs/{video_name}.csv\")"
   ]
  },
  {
   "cell_type": "code",
   "execution_count": 17,
   "id": "c99b802f",
   "metadata": {},
   "outputs": [
    {
     "data": {
      "image/png": "[encoded data removed]",
      "text/plain": [
       "<Figure size 1080x432 with 1 Axes>"
      ]
     },
     "metadata": {
      "needs_background": "light"
     },
     "output_type": "display_data"
    },
    {
     "data": {
      "image/png": "[encoded data removed]",
      "text/plain": [
       "<Figure size 1080x432 with 1 Axes>"
      ]
     },
     "metadata": {
      "needs_background": "light"
     },
     "output_type": "display_data"
    }
   ],
   "source": [
    "# df['velocity(mps)'] = np.sqrt(df['velocityX(mps)']**2 + df['velocityY(mps)']**2)\n",
    "\n",
    "plt.figure(figsize=(15,6))\n",
    "plt.plot(df['timestamp'], df['velocityX(mps)'])\n",
    "plt.plot(df['timestamp'], df['velocityY(mps)'])\n",
    "# plt.plot(df['timestamp'], df['velocity(mps)'])\n",
    "\n",
    "\n",
    "\n",
    "plt.plot(df['timestamp'], 10*df['isTakingVideo'], 'o')\n",
    "plt.axhline(c='k')\n",
    "\n",
    "plt.xlabel('timestamp')\n",
    "plt.ylabel('velocity (mps)')\n",
    "plt.legend(['X', 'Y'])\n",
    "\n",
    "# plt.xlim([6300000+1.55939e12,6500000+1.55939e12])\n",
    "plt.show()\n",
    "plt.figure(figsize=(15,6))\n",
    "\n",
    "plt.plot(df['timestamp'], df['distance(m)'])\n",
    "# plt.plot(df['timestamp'], df['altitude(m)'])\n",
    "\n",
    "plt.xlabel('timestamp')\n",
    "plt.ylabel('distance (m)')\n",
    "# plt.xlim([6300000+1.55939e12,6500000+1.55939e12])\n",
    "plt.show()\n"
   ]
  },
  {
   "cell_type": "code",
   "execution_count": 18,
   "id": "de0b4c3a",
   "metadata": {},
   "outputs": [
    {
     "data": {
      "text/plain": [
       "time(millisecond)\n",
       "00:00:00           2018-09-19 17:08:23.681\n",
       "00:00:00.018000    2018-09-19 17:08:23.699\n",
       "00:00:00.053000    2018-09-19 17:08:23.734\n",
       "00:00:00.414000    2018-09-19 17:08:24.095\n",
       "00:00:00.426000    2018-09-19 17:08:24.107\n",
       "                            ...           \n",
       "00:00:23.223000    2018-09-19 17:08:46.904\n",
       "00:00:23.229000    2018-09-19 17:08:46.911\n",
       "00:00:23.313000    2018-09-19 17:08:46.994\n",
       "00:00:23.576000    2018-09-19 17:08:47.257\n",
       "00:00:23.774000    2018-09-19 17:08:47.455\n",
       "Name: datetime(utc), Length: 296, dtype: object"
      ]
     },
     "execution_count": 18,
     "metadata": {},
     "output_type": "execute_result"
    }
   ],
   "source": [
    "df_copy = df.copy()\n",
    "# df_copy.set_index('time(millisecond)', inplace=True)\n",
    "df_copy.index = pd.to_timedelta(df_copy['time(millisecond)'],  unit='ms') - pd.to_timedelta(df_copy['time(millisecond)'],  unit='ms')[0]\n",
    "df_copy['datetime(utc)']"
   ]
  },
  {
   "cell_type": "code",
   "execution_count": 19,
   "id": "7040def5",
   "metadata": {},
   "outputs": [],
   "source": [
    "import numpy as np\n",
    "\n",
    "def resample(dataframe, freq='42ms'):\n",
    "    # https://stackoverflow.com/questions/49191998/pandas-dataframe-resample-from-irregular-timeseries-index/55654486\n",
    "    resample_index = pd.timedelta_range(start=dataframe.index[0], end=dataframe.index[-1], freq=freq)\n",
    "    \n",
    "#     dataframe['datetime(utc)'] = dataframe['datetime(utc)'].apply(lambda x: datetime.strptime(x, '%Y-%m-%d %H:%M:%S.%f'))\n",
    "    \n",
    "    \n",
    "#     dataframe = dataframe[~dataframe.index.duplicated()]\n",
    "    dummy_frame = pd.DataFrame(np.NaN, index=resample_index, columns=dataframe.columns)\n",
    "    \n",
    "\n",
    "   \n",
    "    new_df = dataframe.combine_first(dummy_frame).interpolate('time').resample(freq).asfreq()\n",
    "    \n",
    "    return new_df"
   ]
  },
  {
   "cell_type": "code",
   "execution_count": 21,
   "id": "04c0111f",
   "metadata": {},
   "outputs": [
    {
     "data": {
      "text/html": [
       "<div>\n",
       "<style scoped>\n",
       "    .dataframe tbody tr th:only-of-type {\n",
       "        vertical-align: middle;\n",
       "    }\n",
       "\n",
       "    .dataframe tbody tr th {\n",
       "        vertical-align: top;\n",
       "    }\n",
       "\n",
       "    .dataframe thead th {\n",
       "        text-align: right;\n",
       "    }\n",
       "</style>\n",
       "<table border=\"1\" class=\"dataframe\">\n",
       "  <thead>\n",
       "    <tr style=\"text-align: right;\">\n",
       "      <th></th>\n",
       "      <th>latitude</th>\n",
       "      <th>longitude</th>\n",
       "      <th>altitude(m)</th>\n",
       "      <th>ultrasonicHeight(m)</th>\n",
       "      <th>speed(mps)</th>\n",
       "      <th>distance(m)</th>\n",
       "      <th>max_altitude(m)</th>\n",
       "      <th>max_ascent(m)</th>\n",
       "      <th>max_speed(mps)</th>\n",
       "      <th>max_distance(m)</th>\n",
       "      <th>...</th>\n",
       "      <th>rcTransform</th>\n",
       "      <th>rcJoystickMode</th>\n",
       "      <th>appMode</th>\n",
       "      <th>FlyControllerSerialNumber_legacy</th>\n",
       "      <th>RemoteSerialNumber_legacy</th>\n",
       "      <th>BatterySerialNumber_legacy</th>\n",
       "      <th>Battery2SerialNumber</th>\n",
       "      <th>frontAvoidDist</th>\n",
       "      <th>backAvoidDist</th>\n",
       "      <th>isBrakingToAvoid</th>\n",
       "    </tr>\n",
       "  </thead>\n",
       "  <tbody>\n",
       "    <tr>\n",
       "      <th>00:00:00</th>\n",
       "      <td>-22.862593</td>\n",
       "      <td>-43.230735</td>\n",
       "      <td>15.400000</td>\n",
       "      <td>0.0</td>\n",
       "      <td>0.100000</td>\n",
       "      <td>22.560000</td>\n",
       "      <td>15.5</td>\n",
       "      <td>15.5</td>\n",
       "      <td>4.63</td>\n",
       "      <td>22.61</td>\n",
       "      <td>...</td>\n",
       "      <td>0.0</td>\n",
       "      <td>2.0</td>\n",
       "      <td>1.0</td>\n",
       "      <td>NaN</td>\n",
       "      <td>NaN</td>\n",
       "      <td>NaN</td>\n",
       "      <td>NaN</td>\n",
       "      <td>0.0</td>\n",
       "      <td>0.0</td>\n",
       "      <td>0.0</td>\n",
       "    </tr>\n",
       "    <tr>\n",
       "      <th>00:00:00.042000</th>\n",
       "      <td>-22.862593</td>\n",
       "      <td>-43.230735</td>\n",
       "      <td>15.400000</td>\n",
       "      <td>0.0</td>\n",
       "      <td>0.100000</td>\n",
       "      <td>22.553143</td>\n",
       "      <td>15.5</td>\n",
       "      <td>15.5</td>\n",
       "      <td>4.63</td>\n",
       "      <td>22.61</td>\n",
       "      <td>...</td>\n",
       "      <td>0.0</td>\n",
       "      <td>2.0</td>\n",
       "      <td>1.0</td>\n",
       "      <td>NaN</td>\n",
       "      <td>NaN</td>\n",
       "      <td>NaN</td>\n",
       "      <td>NaN</td>\n",
       "      <td>0.0</td>\n",
       "      <td>0.0</td>\n",
       "      <td>0.0</td>\n",
       "    </tr>\n",
       "    <tr>\n",
       "      <th>00:00:00.084000</th>\n",
       "      <td>-22.862593</td>\n",
       "      <td>-43.230735</td>\n",
       "      <td>15.391413</td>\n",
       "      <td>0.0</td>\n",
       "      <td>0.123186</td>\n",
       "      <td>22.547424</td>\n",
       "      <td>15.5</td>\n",
       "      <td>15.5</td>\n",
       "      <td>4.63</td>\n",
       "      <td>22.61</td>\n",
       "      <td>...</td>\n",
       "      <td>0.0</td>\n",
       "      <td>2.0</td>\n",
       "      <td>1.0</td>\n",
       "      <td>NaN</td>\n",
       "      <td>NaN</td>\n",
       "      <td>NaN</td>\n",
       "      <td>NaN</td>\n",
       "      <td>0.0</td>\n",
       "      <td>0.0</td>\n",
       "      <td>0.0</td>\n",
       "    </tr>\n",
       "    <tr>\n",
       "      <th>00:00:00.126000</th>\n",
       "      <td>-22.862593</td>\n",
       "      <td>-43.230735</td>\n",
       "      <td>15.379778</td>\n",
       "      <td>0.0</td>\n",
       "      <td>0.154598</td>\n",
       "      <td>22.543934</td>\n",
       "      <td>15.5</td>\n",
       "      <td>15.5</td>\n",
       "      <td>4.63</td>\n",
       "      <td>22.61</td>\n",
       "      <td>...</td>\n",
       "      <td>0.0</td>\n",
       "      <td>2.0</td>\n",
       "      <td>1.0</td>\n",
       "      <td>NaN</td>\n",
       "      <td>NaN</td>\n",
       "      <td>NaN</td>\n",
       "      <td>NaN</td>\n",
       "      <td>0.0</td>\n",
       "      <td>0.0</td>\n",
       "      <td>0.0</td>\n",
       "    </tr>\n",
       "    <tr>\n",
       "      <th>00:00:00.168000</th>\n",
       "      <td>-22.862593</td>\n",
       "      <td>-43.230735</td>\n",
       "      <td>15.368144</td>\n",
       "      <td>0.0</td>\n",
       "      <td>0.186011</td>\n",
       "      <td>22.540443</td>\n",
       "      <td>15.5</td>\n",
       "      <td>15.5</td>\n",
       "      <td>4.63</td>\n",
       "      <td>22.61</td>\n",
       "      <td>...</td>\n",
       "      <td>0.0</td>\n",
       "      <td>2.0</td>\n",
       "      <td>1.0</td>\n",
       "      <td>NaN</td>\n",
       "      <td>NaN</td>\n",
       "      <td>NaN</td>\n",
       "      <td>NaN</td>\n",
       "      <td>0.0</td>\n",
       "      <td>0.0</td>\n",
       "      <td>0.0</td>\n",
       "    </tr>\n",
       "    <tr>\n",
       "      <th>...</th>\n",
       "      <td>...</td>\n",
       "      <td>...</td>\n",
       "      <td>...</td>\n",
       "      <td>...</td>\n",
       "      <td>...</td>\n",
       "      <td>...</td>\n",
       "      <td>...</td>\n",
       "      <td>...</td>\n",
       "      <td>...</td>\n",
       "      <td>...</td>\n",
       "      <td>...</td>\n",
       "      <td>...</td>\n",
       "      <td>...</td>\n",
       "      <td>...</td>\n",
       "      <td>...</td>\n",
       "      <td>...</td>\n",
       "      <td>...</td>\n",
       "      <td>...</td>\n",
       "      <td>...</td>\n",
       "      <td>...</td>\n",
       "      <td>...</td>\n",
       "    </tr>\n",
       "    <tr>\n",
       "      <th>00:00:23.604000</th>\n",
       "      <td>-22.862125</td>\n",
       "      <td>-43.231047</td>\n",
       "      <td>15.000000</td>\n",
       "      <td>0.0</td>\n",
       "      <td>0.000000</td>\n",
       "      <td>43.430000</td>\n",
       "      <td>15.5</td>\n",
       "      <td>15.5</td>\n",
       "      <td>4.63</td>\n",
       "      <td>43.48</td>\n",
       "      <td>...</td>\n",
       "      <td>0.0</td>\n",
       "      <td>2.0</td>\n",
       "      <td>1.0</td>\n",
       "      <td>NaN</td>\n",
       "      <td>NaN</td>\n",
       "      <td>NaN</td>\n",
       "      <td>NaN</td>\n",
       "      <td>0.0</td>\n",
       "      <td>0.0</td>\n",
       "      <td>0.0</td>\n",
       "    </tr>\n",
       "    <tr>\n",
       "      <th>00:00:23.646000</th>\n",
       "      <td>-22.862125</td>\n",
       "      <td>-43.231047</td>\n",
       "      <td>15.000000</td>\n",
       "      <td>0.0</td>\n",
       "      <td>0.000000</td>\n",
       "      <td>43.430000</td>\n",
       "      <td>15.5</td>\n",
       "      <td>15.5</td>\n",
       "      <td>4.63</td>\n",
       "      <td>43.48</td>\n",
       "      <td>...</td>\n",
       "      <td>0.0</td>\n",
       "      <td>2.0</td>\n",
       "      <td>1.0</td>\n",
       "      <td>NaN</td>\n",
       "      <td>NaN</td>\n",
       "      <td>NaN</td>\n",
       "      <td>NaN</td>\n",
       "      <td>0.0</td>\n",
       "      <td>0.0</td>\n",
       "      <td>0.0</td>\n",
       "    </tr>\n",
       "    <tr>\n",
       "      <th>00:00:23.688000</th>\n",
       "      <td>-22.862125</td>\n",
       "      <td>-43.231047</td>\n",
       "      <td>15.000000</td>\n",
       "      <td>0.0</td>\n",
       "      <td>0.000000</td>\n",
       "      <td>43.430000</td>\n",
       "      <td>15.5</td>\n",
       "      <td>15.5</td>\n",
       "      <td>4.63</td>\n",
       "      <td>43.48</td>\n",
       "      <td>...</td>\n",
       "      <td>0.0</td>\n",
       "      <td>2.0</td>\n",
       "      <td>1.0</td>\n",
       "      <td>NaN</td>\n",
       "      <td>NaN</td>\n",
       "      <td>NaN</td>\n",
       "      <td>NaN</td>\n",
       "      <td>0.0</td>\n",
       "      <td>0.0</td>\n",
       "      <td>0.0</td>\n",
       "    </tr>\n",
       "    <tr>\n",
       "      <th>00:00:23.730000</th>\n",
       "      <td>-22.862125</td>\n",
       "      <td>-43.231047</td>\n",
       "      <td>15.000000</td>\n",
       "      <td>0.0</td>\n",
       "      <td>0.000000</td>\n",
       "      <td>43.430000</td>\n",
       "      <td>15.5</td>\n",
       "      <td>15.5</td>\n",
       "      <td>4.63</td>\n",
       "      <td>43.48</td>\n",
       "      <td>...</td>\n",
       "      <td>0.0</td>\n",
       "      <td>2.0</td>\n",
       "      <td>1.0</td>\n",
       "      <td>NaN</td>\n",
       "      <td>NaN</td>\n",
       "      <td>NaN</td>\n",
       "      <td>NaN</td>\n",
       "      <td>0.0</td>\n",
       "      <td>0.0</td>\n",
       "      <td>0.0</td>\n",
       "    </tr>\n",
       "    <tr>\n",
       "      <th>00:00:23.772000</th>\n",
       "      <td>-22.862125</td>\n",
       "      <td>-43.231047</td>\n",
       "      <td>15.000000</td>\n",
       "      <td>0.0</td>\n",
       "      <td>0.000000</td>\n",
       "      <td>43.430000</td>\n",
       "      <td>15.5</td>\n",
       "      <td>15.5</td>\n",
       "      <td>4.63</td>\n",
       "      <td>43.48</td>\n",
       "      <td>...</td>\n",
       "      <td>0.0</td>\n",
       "      <td>2.0</td>\n",
       "      <td>1.0</td>\n",
       "      <td>NaN</td>\n",
       "      <td>NaN</td>\n",
       "      <td>NaN</td>\n",
       "      <td>NaN</td>\n",
       "      <td>0.0</td>\n",
       "      <td>0.0</td>\n",
       "      <td>0.0</td>\n",
       "    </tr>\n",
       "  </tbody>\n",
       "</table>\n",
       "<p>567 rows × 92 columns</p>\n",
       "</div>"
      ],
      "text/plain": [
       "                  latitude  longitude  altitude(m)  ultrasonicHeight(m)  \\\n",
       "00:00:00        -22.862593 -43.230735    15.400000                  0.0   \n",
       "00:00:00.042000 -22.862593 -43.230735    15.400000                  0.0   \n",
       "00:00:00.084000 -22.862593 -43.230735    15.391413                  0.0   \n",
       "00:00:00.126000 -22.862593 -43.230735    15.379778                  0.0   \n",
       "00:00:00.168000 -22.862593 -43.230735    15.368144                  0.0   \n",
       "...                    ...        ...          ...                  ...   \n",
       "00:00:23.604000 -22.862125 -43.231047    15.000000                  0.0   \n",
       "00:00:23.646000 -22.862125 -43.231047    15.000000                  0.0   \n",
       "00:00:23.688000 -22.862125 -43.231047    15.000000                  0.0   \n",
       "00:00:23.730000 -22.862125 -43.231047    15.000000                  0.0   \n",
       "00:00:23.772000 -22.862125 -43.231047    15.000000                  0.0   \n",
       "\n",
       "                 speed(mps)  distance(m)  max_altitude(m)  max_ascent(m)  \\\n",
       "00:00:00           0.100000    22.560000             15.5           15.5   \n",
       "00:00:00.042000    0.100000    22.553143             15.5           15.5   \n",
       "00:00:00.084000    0.123186    22.547424             15.5           15.5   \n",
       "00:00:00.126000    0.154598    22.543934             15.5           15.5   \n",
       "00:00:00.168000    0.186011    22.540443             15.5           15.5   \n",
       "...                     ...          ...              ...            ...   \n",
       "00:00:23.604000    0.000000    43.430000             15.5           15.5   \n",
       "00:00:23.646000    0.000000    43.430000             15.5           15.5   \n",
       "00:00:23.688000    0.000000    43.430000             15.5           15.5   \n",
       "00:00:23.730000    0.000000    43.430000             15.5           15.5   \n",
       "00:00:23.772000    0.000000    43.430000             15.5           15.5   \n",
       "\n",
       "                 max_speed(mps)  max_distance(m)  ...  rcTransform  \\\n",
       "00:00:00                   4.63            22.61  ...          0.0   \n",
       "00:00:00.042000            4.63            22.61  ...          0.0   \n",
       "00:00:00.084000            4.63            22.61  ...          0.0   \n",
       "00:00:00.126000            4.63            22.61  ...          0.0   \n",
       "00:00:00.168000            4.63            22.61  ...          0.0   \n",
       "...                         ...              ...  ...          ...   \n",
       "00:00:23.604000            4.63            43.48  ...          0.0   \n",
       "00:00:23.646000            4.63            43.48  ...          0.0   \n",
       "00:00:23.688000            4.63            43.48  ...          0.0   \n",
       "00:00:23.730000            4.63            43.48  ...          0.0   \n",
       "00:00:23.772000            4.63            43.48  ...          0.0   \n",
       "\n",
       "                rcJoystickMode appMode  FlyControllerSerialNumber_legacy  \\\n",
       "00:00:00                   2.0     1.0                               NaN   \n",
       "00:00:00.042000            2.0     1.0                               NaN   \n",
       "00:00:00.084000            2.0     1.0                               NaN   \n",
       "00:00:00.126000            2.0     1.0                               NaN   \n",
       "00:00:00.168000            2.0     1.0                               NaN   \n",
       "...                        ...     ...                               ...   \n",
       "00:00:23.604000            2.0     1.0                               NaN   \n",
       "00:00:23.646000            2.0     1.0                               NaN   \n",
       "00:00:23.688000            2.0     1.0                               NaN   \n",
       "00:00:23.730000            2.0     1.0                               NaN   \n",
       "00:00:23.772000            2.0     1.0                               NaN   \n",
       "\n",
       "                 RemoteSerialNumber_legacy  BatterySerialNumber_legacy  \\\n",
       "00:00:00                               NaN                         NaN   \n",
       "00:00:00.042000                        NaN                         NaN   \n",
       "00:00:00.084000                        NaN                         NaN   \n",
       "00:00:00.126000                        NaN                         NaN   \n",
       "00:00:00.168000                        NaN                         NaN   \n",
       "...                                    ...                         ...   \n",
       "00:00:23.604000                        NaN                         NaN   \n",
       "00:00:23.646000                        NaN                         NaN   \n",
       "00:00:23.688000                        NaN                         NaN   \n",
       "00:00:23.730000                        NaN                         NaN   \n",
       "00:00:23.772000                        NaN                         NaN   \n",
       "\n",
       "                 Battery2SerialNumber  frontAvoidDist  backAvoidDist  \\\n",
       "00:00:00                          NaN             0.0            0.0   \n",
       "00:00:00.042000                   NaN             0.0            0.0   \n",
       "00:00:00.084000                   NaN             0.0            0.0   \n",
       "00:00:00.126000                   NaN             0.0            0.0   \n",
       "00:00:00.168000                   NaN             0.0            0.0   \n",
       "...                               ...             ...            ...   \n",
       "00:00:23.604000                   NaN             0.0            0.0   \n",
       "00:00:23.646000                   NaN             0.0            0.0   \n",
       "00:00:23.688000                   NaN             0.0            0.0   \n",
       "00:00:23.730000                   NaN             0.0            0.0   \n",
       "00:00:23.772000                   NaN             0.0            0.0   \n",
       "\n",
       "                 isBrakingToAvoid  \n",
       "00:00:00                      0.0  \n",
       "00:00:00.042000               0.0  \n",
       "00:00:00.084000               0.0  \n",
       "00:00:00.126000               0.0  \n",
       "00:00:00.168000               0.0  \n",
       "...                           ...  \n",
       "00:00:23.604000               0.0  \n",
       "00:00:23.646000               0.0  \n",
       "00:00:23.688000               0.0  \n",
       "00:00:23.730000               0.0  \n",
       "00:00:23.772000               0.0  \n",
       "\n",
       "[567 rows x 92 columns]"
      ]
     },
     "execution_count": 21,
     "metadata": {},
     "output_type": "execute_result"
    }
   ],
   "source": [
    "df_interp = resample(df_copy)\n",
    "# uncomment the following line to save the csv\n",
    "# df_interp.to_csv(f\"../data/v1/flightlogs/{video_name}_interp.csv\")\n",
    "df_interp"
   ]
  },
  {
   "cell_type": "code",
   "execution_count": 22,
   "id": "e7860987",
   "metadata": {},
   "outputs": [
    {
     "data": {
      "text/plain": [
       "565"
      ]
     },
     "execution_count": 22,
     "metadata": {},
     "output_type": "execute_result"
    }
   ],
   "source": [
    "video = videoObj(f\"../data/v1/videos/{video_name}.avi\")\n",
    "video.videoInfo.getNumberOfFrames()"
   ]
  },
  {
   "cell_type": "code",
   "execution_count": 24,
   "id": "e15267fb",
   "metadata": {},
   "outputs": [
    {
     "data": {
      "image/png": "[encoded data removed]",
      "text/plain": [
       "<Figure size 864x576 with 1 Axes>"
      ]
     },
     "metadata": {
      "needs_background": "light"
     },
     "output_type": "display_data"
    }
   ],
   "source": [
    "tag = 'velocityX(mps)'\n",
    "\n",
    "plt.figure(figsize=(12,8))\n",
    "plt.plot(df_interp.index[0:90], df_interp[tag][0:90], '.', markersize=10)\n",
    "plt.plot(df_copy.index[0:30], df_copy[tag][0:30], '.', markersize=10)\n",
    "\n",
    "# df_interp.reset_index().plot.scatter(x='index', y=tag)\n",
    "# df_copy.reset_index().plot.scatter(x='index', y=tag)\n",
    "\n",
    "plt.legend(['interp', 'orig'])\n",
    "\n",
    "plt.show()"
   ]
  },
  {
   "cell_type": "code",
   "execution_count": 25,
   "id": "073452bf",
   "metadata": {},
   "outputs": [
    {
     "data": {
      "text/plain": [
       "(567, 92)"
      ]
     },
     "execution_count": 25,
     "metadata": {},
     "output_type": "execute_result"
    }
   ],
   "source": [
    "df_interp.shape"
   ]
  }
 ],
 "metadata": {
  "kernelspec": {
   "display_name": "Python 3",
   "language": "python",
   "name": "python3"
  },
  "language_info": {
   "codemirror_mode": {
    "name": "ipython",
    "version": 3
   },
   "file_extension": ".py",
   "mimetype": "text/x-python",
   "name": "python",
   "nbconvert_exporter": "python",
   "pygments_lexer": "ipython3",
   "version": "3.8.8"
  }
 },
 "nbformat": 4,
 "nbformat_minor": 5
}
