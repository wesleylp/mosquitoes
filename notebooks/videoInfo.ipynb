{
 "cells": [
  {
   "cell_type": "markdown",
   "metadata": {},
   "source": [
    "# VideoInfo"
   ]
  },
  {
   "cell_type": "markdown",
   "metadata": {},
   "source": [
    "Using videoInfo class to extract and print video information.\n",
    "Strongly based on https://github.com/rafaelpadilla/DeepLearning-VDAO/blob/master/VDAO_Access/VDAOHelper.py"
   ]
  },
  {
   "cell_type": "code",
   "execution_count": 1,
   "metadata": {},
   "outputs": [],
   "source": [
    "import sys\n",
    "#import videoInfo\n",
    "sys.path.insert(0, '../lib')\n",
    "from videoInfo import videoInfo"
   ]
  },
  {
   "cell_type": "code",
   "execution_count": 2,
   "metadata": {},
   "outputs": [],
   "source": [
    "# the notebook will reload external python modules;\n",
    "%load_ext autoreload\n",
    "%autoreload 2"
   ]
  },
  {
   "cell_type": "code",
   "execution_count": 3,
   "metadata": {},
   "outputs": [],
   "source": [
    "#defining video\n",
    "video_file = videoInfo('../data/DJI00884.MP4')"
   ]
  },
  {
   "cell_type": "code",
   "execution_count": 4,
   "metadata": {},
   "outputs": [
    {
     "name": "stdout",
     "output_type": "stream",
     "text": [
      "Number of frames: 237 \n",
      "Frame rate: 30000/1001\n"
     ]
    }
   ],
   "source": [
    "# Get the number of frames\n",
    "numberOfFrames = video_file.getNumberOfFrames()\n",
    "print(\"Number of frames: %d \" % numberOfFrames)\n",
    "# Get frame rate\n",
    "frameRate = video_file.getFrameRate()\n",
    "print(\"Frame rate: \"+ frameRate)"
   ]
  },
  {
   "cell_type": "code",
   "execution_count": 5,
   "metadata": {},
   "outputs": [
    {
     "name": "stdout",
     "output_type": "stream",
     "text": [
      "\n",
      "*************************************\n",
      "************* video info ************\n",
      " \n",
      "File path: ../data/DJI00884.MP4\n",
      "File name: DJI00884.MP4\n",
      "File extension: mov,mp4,m4a,3gp,3g2,mj2 (QuickTime / MOV)\n",
      "Created on: 2018-03-07T10:48:36.000000Z\n",
      "File size: 12703636\n",
      "Codec: h264 (H.264 / AVC / MPEG-4 AVC / MPEG-4 part 10)\n",
      "Width: 1920\n",
      "Height: 1080\n",
      "Width x Height: [1920, 1080]\n",
      "Sample aspect ratio: 1:1\n",
      "Display aspect ratio: 16:9\n",
      "Pixel format: yuvj420p\n",
      "Frame rate: 30000/1001\n",
      "Duration ts: 1423422\n",
      "Duration: 7.907900\n",
      "Bit rate: 12818440\n",
      "Number of frames: 237\n",
      " \n",
      "*************************************\n"
     ]
    }
   ],
   "source": [
    "# Print all information about the video  \n",
    "video_file.printAllInformation()"
   ]
  }
 ],
 "metadata": {
  "kernelspec": {
   "display_name": "Python 3",
   "language": "python",
   "name": "python3"
  },
  "language_info": {
   "codemirror_mode": {
    "name": "ipython",
    "version": 3
   },
   "file_extension": ".py",
   "mimetype": "text/x-python",
   "name": "python",
   "nbconvert_exporter": "python",
   "pygments_lexer": "ipython3",
   "version": "3.6.4"
  }
 },
 "nbformat": 4,
 "nbformat_minor": 2
}
