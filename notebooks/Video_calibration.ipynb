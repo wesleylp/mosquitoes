{
 "cells": [
  {
   "cell_type": "markdown",
   "metadata": {},
   "source": [
    "# Camera Calibration"
   ]
  },
  {
   "cell_type": "code",
   "execution_count": 1,
   "metadata": {},
   "outputs": [],
   "source": [
    "# the notebook will reload external python modules;\n",
    "%load_ext autoreload\n",
    "%autoreload 2"
   ]
  },
  {
   "cell_type": "code",
   "execution_count": 2,
   "metadata": {},
   "outputs": [
    {
     "name": "stderr",
     "output_type": "stream",
     "text": [
      "/home/wesley.passos/miniconda3/envs/mosquitoes/lib/python3.6/site-packages/tqdm/autonotebook/__init__.py:14: TqdmExperimentalWarning: Using `tqdm.autonotebook.tqdm` in notebook mode. Use `tqdm.tqdm` instead to force console mode (e.g. in jupyter console)\n",
      "  \" (e.g. in jupyter console)\", TqdmExperimentalWarning)\n"
     ]
    }
   ],
   "source": [
    "import os\n",
    "import sys\n",
    "sys.path.insert(0, '../codes')\n",
    "\n",
    "import matplotlib.pyplot as plt\n",
    "\n",
    "import video_utils\n",
    "import cv2"
   ]
  },
  {
   "cell_type": "code",
   "execution_count": 3,
   "metadata": {},
   "outputs": [],
   "source": [
    "#make matplotlib figures appear inline in the notebook\n",
    "#rather than in a new window.\n",
    "%matplotlib inline\n",
    "#sns.set()\n",
    "# set default size of plots\n",
    "plt.rcParams['figure.figsize'] = (12.0, 10.0) \n",
    "plt.rcParams['image.interpolation'] = 'nearest'\n",
    "plt.rcParams['image.cmap'] = 'gray'\n",
    "plt.rcParams['xtick.labelsize'] = 20\n",
    "plt.rcParams['ytick.labelsize'] = 20\n"
   ]
  },
  {
   "cell_type": "markdown",
   "metadata": {},
   "source": [
    "## Choosing video to test"
   ]
  },
  {
   "cell_type": "code",
   "execution_count": 4,
   "metadata": {},
   "outputs": [],
   "source": [
    "video_path = '../data/DJI4_cam/'\n",
    "video_name = 'DJI_0001.MOV'\n",
    "video = os.path.join(video_path, video_name)"
   ]
  },
  {
   "cell_type": "markdown",
   "metadata": {},
   "source": [
    "## Creating video object"
   ]
  },
  {
   "cell_type": "code",
   "execution_count": 5,
   "metadata": {},
   "outputs": [],
   "source": [
    "vid = video_utils.videoObj(videopath=video)"
   ]
  },
  {
   "cell_type": "markdown",
   "metadata": {},
   "source": [
    "## Computing Camera Parameters"
   ]
  },
  {
   "cell_type": "code",
   "execution_count": 7,
   "metadata": {
    "scrolled": false
   },
   "outputs": [
    {
     "name": "stdout",
     "output_type": "stream",
     "text": [
      "Calibrating video: DJI_0001.MOV ...\n"
     ]
    },
    {
     "data": {
      "application/vnd.jupyter.widget-view+json": {
       "model_id": "59e7575aa2014da3be4edc49c45f38f4",
       "version_major": 2,
       "version_minor": 0
      },
      "text/html": [
       "<p>Failed to display Jupyter Widget of type <code>HBox</code>.</p>\n",
       "<p>\n",
       "  If you're reading this message in the Jupyter Notebook or JupyterLab Notebook, it may mean\n",
       "  that the widgets JavaScript is still loading. If this message persists, it\n",
       "  likely means that the widgets JavaScript library is either not installed or\n",
       "  not enabled. See the <a href=\"https://ipywidgets.readthedocs.io/en/stable/user_install.html\">Jupyter\n",
       "  Widgets Documentation</a> for setup instructions.\n",
       "</p>\n",
       "<p>\n",
       "  If you're reading this message in another frontend (for example, a static\n",
       "  rendering on GitHub or <a href=\"https://nbviewer.jupyter.org/\">NBViewer</a>),\n",
       "  it may mean that your frontend doesn't currently support widgets.\n",
       "</p>\n"
      ],
      "text/plain": [
       "HBox(children=(IntProgress(value=0, max=35), HTML(value='')))"
      ]
     },
     "metadata": {},
     "output_type": "display_data"
    },
    {
     "name": "stdout",
     "output_type": "stream",
     "text": [
      " Searching for chessboard in frame 1...\n",
      "pattern found\n",
      " Searching for chessboard in frame 21...\n",
      "pattern found\n",
      " Searching for chessboard in frame 41...\n",
      "pattern found\n",
      " Searching for chessboard in frame 61...\n",
      "pattern found\n",
      " Searching for chessboard in frame 81...\n",
      "pattern found\n",
      " Searching for chessboard in frame 101...\n",
      "pattern NOT found\n",
      " Searching for chessboard in frame 121...\n",
      "pattern found\n",
      " Searching for chessboard in frame 141...\n",
      "pattern found\n",
      " Searching for chessboard in frame 161...\n",
      "pattern found\n",
      " Searching for chessboard in frame 181...\n",
      "pattern found\n",
      " Searching for chessboard in frame 201...\n",
      "pattern NOT found\n",
      " Searching for chessboard in frame 221...\n",
      "pattern found\n",
      " Searching for chessboard in frame 241...\n",
      "pattern found\n",
      " Searching for chessboard in frame 261...\n",
      "pattern found\n",
      " Searching for chessboard in frame 281...\n",
      "pattern found\n",
      " Searching for chessboard in frame 301...\n",
      "pattern NOT found\n",
      " Searching for chessboard in frame 321...\n",
      "pattern NOT found\n",
      " Searching for chessboard in frame 341...\n",
      "pattern found\n",
      " Searching for chessboard in frame 361...\n",
      "pattern NOT found\n",
      " Searching for chessboard in frame 381...\n",
      "pattern found\n",
      " Searching for chessboard in frame 401...\n",
      "pattern NOT found\n",
      " Searching for chessboard in frame 421...\n",
      "pattern NOT found\n",
      " Searching for chessboard in frame 441...\n",
      "pattern NOT found\n",
      " Searching for chessboard in frame 461...\n",
      "pattern NOT found\n",
      " Searching for chessboard in frame 481...\n",
      "pattern NOT found\n",
      " Searching for chessboard in frame 501...\n",
      "pattern found\n",
      " Searching for chessboard in frame 521...\n",
      "pattern found\n",
      " Searching for chessboard in frame 541...\n",
      "pattern found\n",
      " Searching for chessboard in frame 561...\n",
      "pattern found\n",
      " Searching for chessboard in frame 581...\n",
      "pattern NOT found\n",
      " Searching for chessboard in frame 601...\n",
      "pattern NOT found\n",
      " Searching for chessboard in frame 621...\n",
      "pattern NOT found\n",
      " Searching for chessboard in frame 641...\n",
      "pattern NOT found\n",
      " Searching for chessboard in frame 661...\n",
      "pattern NOT found\n",
      " Searching for chessboard in frame 681...\n",
      "pattern found\n",
      "\n",
      "Number of pattern found:  20\n",
      "computing cam params...\n",
      "Done!\n"
     ]
    }
   ],
   "source": [
    "ret, mtx, dist, rvecs, tvecs = vid.cam_params()"
   ]
  },
  {
   "cell_type": "code",
   "execution_count": null,
   "metadata": {},
   "outputs": [],
   "source": []
  }
 ],
 "metadata": {
  "kernelspec": {
   "display_name": "Python 3",
   "language": "python",
   "name": "python3"
  },
  "language_info": {
   "codemirror_mode": {
    "name": "ipython",
    "version": 3
   },
   "file_extension": ".py",
   "mimetype": "text/x-python",
   "name": "python",
   "nbconvert_exporter": "python",
   "pygments_lexer": "ipython3",
   "version": "3.6.4"
  }
 },
 "nbformat": 4,
 "nbformat_minor": 2
}
