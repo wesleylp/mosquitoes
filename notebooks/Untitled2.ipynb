{
 "cells": [
  {
   "cell_type": "code",
   "execution_count": 1,
   "id": "e7760593",
   "metadata": {},
   "outputs": [],
   "source": [
    "import pandas as pd"
   ]
  },
  {
   "cell_type": "code",
   "execution_count": 2,
   "id": "bf3dcacf",
   "metadata": {},
   "outputs": [],
   "source": [
    "fold = 0\n",
    "n_iter = 4078\n",
    "root_dir = '../output/paper_reprod_val2/faster_rcnn_R_50_FPN_3x'\n",
    "\n",
    "list_df = []\n",
    "\n",
    "for fold in range(8):\n",
    "    path = f'{root_dir}/mbg_train{fold}_tire/tire_faster_rcnn_R_50_FPN_1x_model_{n_iter:07d}_val{fold}.csv'\n",
    "    df = pd.read_csv(path)\n",
    "    list_df.append(df)\n",
    "    \n",
    "\n",
    "\n",
    "\n"
   ]
  },
  {
   "cell_type": "code",
   "execution_count": 3,
   "id": "8618d7d6",
   "metadata": {},
   "outputs": [],
   "source": [
    "sum_tp = list_df[1]['TP']\n",
    "sum_fp = list_df[1]['FP']\n",
    "sum_fn = list_df[1]['FN']\n",
    "\n",
    "for fold in range(2,8):\n",
    "    sum_tp += list_df[fold]['TP']\n",
    "    sum_fp += list_df[fold]['FP']\n",
    "    sum_fn += list_df[fold]['FN']\n",
    "    \n",
    "    \n",
    "    "
   ]
  },
  {
   "cell_type": "code",
   "execution_count": 4,
   "id": "531a64ea",
   "metadata": {},
   "outputs": [
    {
     "data": {
      "text/plain": [
       "0     0.186684\n",
       "1     0.209480\n",
       "2     0.249057\n",
       "3     0.267974\n",
       "4     0.290954\n",
       "5     0.322404\n",
       "6     0.347692\n",
       "7     0.372414\n",
       "8     0.419608\n",
       "9     0.495000\n",
       "10    0.692308\n",
       "dtype: float64"
      ]
     },
     "execution_count": 4,
     "metadata": {},
     "output_type": "execute_result"
    }
   ],
   "source": [
    "overall_pr = sum_tp / (sum_tp + sum_fp )\n",
    "overall_pr"
   ]
  },
  {
   "cell_type": "code",
   "execution_count": 5,
   "id": "35672545",
   "metadata": {},
   "outputs": [
    {
     "data": {
      "text/plain": [
       "0     0.355721\n",
       "1     0.340796\n",
       "2     0.328358\n",
       "3     0.305970\n",
       "4     0.296020\n",
       "5     0.293532\n",
       "6     0.281095\n",
       "7     0.268657\n",
       "8     0.266169\n",
       "9     0.246269\n",
       "10    0.156716\n",
       "dtype: float64"
      ]
     },
     "execution_count": 5,
     "metadata": {},
     "output_type": "execute_result"
    }
   ],
   "source": [
    "overall_rc = sum_tp / (sum_tp + sum_fn)\n",
    "overall_rc"
   ]
  },
  {
   "cell_type": "code",
   "execution_count": 6,
   "id": "1f9e76e6",
   "metadata": {},
   "outputs": [
    {
     "data": {
      "text/plain": [
       "0     0.244863\n",
       "1     0.259470\n",
       "2     0.283262\n",
       "3     0.285714\n",
       "4     0.293465\n",
       "5     0.307292\n",
       "6     0.310867\n",
       "7     0.312139\n",
       "8     0.325723\n",
       "9     0.328904\n",
       "10    0.255578\n",
       "dtype: float64"
      ]
     },
     "execution_count": 6,
     "metadata": {},
     "output_type": "execute_result"
    }
   ],
   "source": [
    "overall_f1 = (2*overall_pr * overall_rc)/(overall_pr + overall_rc)\n",
    "overall_f1"
   ]
  },
  {
   "cell_type": "code",
   "execution_count": 7,
   "id": "be366825",
   "metadata": {},
   "outputs": [
    {
     "data": {
      "text/html": [
       "<div>\n",
       "<style scoped>\n",
       "    .dataframe tbody tr th:only-of-type {\n",
       "        vertical-align: middle;\n",
       "    }\n",
       "\n",
       "    .dataframe tbody tr th {\n",
       "        vertical-align: top;\n",
       "    }\n",
       "\n",
       "    .dataframe thead th {\n",
       "        text-align: right;\n",
       "    }\n",
       "</style>\n",
       "<table border=\"1\" class=\"dataframe\">\n",
       "  <thead>\n",
       "    <tr style=\"text-align: right;\">\n",
       "      <th></th>\n",
       "      <th>score</th>\n",
       "      <th>Pr</th>\n",
       "      <th>Rc</th>\n",
       "      <th>F1</th>\n",
       "    </tr>\n",
       "  </thead>\n",
       "  <tbody>\n",
       "    <tr>\n",
       "      <th>0</th>\n",
       "      <td>0.05</td>\n",
       "      <td>0.19</td>\n",
       "      <td>0.36</td>\n",
       "      <td>0.24</td>\n",
       "    </tr>\n",
       "    <tr>\n",
       "      <th>1</th>\n",
       "      <td>0.10</td>\n",
       "      <td>0.21</td>\n",
       "      <td>0.34</td>\n",
       "      <td>0.26</td>\n",
       "    </tr>\n",
       "    <tr>\n",
       "      <th>2</th>\n",
       "      <td>0.20</td>\n",
       "      <td>0.25</td>\n",
       "      <td>0.33</td>\n",
       "      <td>0.28</td>\n",
       "    </tr>\n",
       "    <tr>\n",
       "      <th>3</th>\n",
       "      <td>0.30</td>\n",
       "      <td>0.27</td>\n",
       "      <td>0.31</td>\n",
       "      <td>0.29</td>\n",
       "    </tr>\n",
       "    <tr>\n",
       "      <th>4</th>\n",
       "      <td>0.40</td>\n",
       "      <td>0.29</td>\n",
       "      <td>0.30</td>\n",
       "      <td>0.29</td>\n",
       "    </tr>\n",
       "    <tr>\n",
       "      <th>5</th>\n",
       "      <td>0.50</td>\n",
       "      <td>0.32</td>\n",
       "      <td>0.29</td>\n",
       "      <td>0.31</td>\n",
       "    </tr>\n",
       "    <tr>\n",
       "      <th>6</th>\n",
       "      <td>0.60</td>\n",
       "      <td>0.35</td>\n",
       "      <td>0.28</td>\n",
       "      <td>0.31</td>\n",
       "    </tr>\n",
       "    <tr>\n",
       "      <th>7</th>\n",
       "      <td>0.70</td>\n",
       "      <td>0.37</td>\n",
       "      <td>0.27</td>\n",
       "      <td>0.31</td>\n",
       "    </tr>\n",
       "    <tr>\n",
       "      <th>8</th>\n",
       "      <td>0.80</td>\n",
       "      <td>0.42</td>\n",
       "      <td>0.27</td>\n",
       "      <td>0.33</td>\n",
       "    </tr>\n",
       "    <tr>\n",
       "      <th>9</th>\n",
       "      <td>0.90</td>\n",
       "      <td>0.50</td>\n",
       "      <td>0.25</td>\n",
       "      <td>0.33</td>\n",
       "    </tr>\n",
       "    <tr>\n",
       "      <th>10</th>\n",
       "      <td>0.99</td>\n",
       "      <td>0.69</td>\n",
       "      <td>0.16</td>\n",
       "      <td>0.26</td>\n",
       "    </tr>\n",
       "  </tbody>\n",
       "</table>\n",
       "</div>"
      ],
      "text/plain": [
       "    score    Pr    Rc    F1\n",
       "0    0.05  0.19  0.36  0.24\n",
       "1    0.10  0.21  0.34  0.26\n",
       "2    0.20  0.25  0.33  0.28\n",
       "3    0.30  0.27  0.31  0.29\n",
       "4    0.40  0.29  0.30  0.29\n",
       "5    0.50  0.32  0.29  0.31\n",
       "6    0.60  0.35  0.28  0.31\n",
       "7    0.70  0.37  0.27  0.31\n",
       "8    0.80  0.42  0.27  0.33\n",
       "9    0.90  0.50  0.25  0.33\n",
       "10   0.99  0.69  0.16  0.26"
      ]
     },
     "execution_count": 7,
     "metadata": {},
     "output_type": "execute_result"
    }
   ],
   "source": [
    "import numpy as np\n",
    "\n",
    "overall_df = pd.DataFrame([list_df[1]['score'], overall_pr, overall_rc, overall_f1]).T\n",
    "overall_df = np.round(overall_df, decimals=2)\n",
    "overall_df.columns = ['score', 'Pr', 'Rc', 'F1']\n",
    "\n",
    "overall_df"
   ]
  },
  {
   "cell_type": "code",
   "execution_count": null,
   "id": "0e5121ac",
   "metadata": {},
   "outputs": [],
   "source": []
  }
 ],
 "metadata": {
  "kernelspec": {
   "display_name": "Python 3",
   "language": "python",
   "name": "python3"
  },
  "language_info": {
   "codemirror_mode": {
    "name": "ipython",
    "version": 3
   },
   "file_extension": ".py",
   "mimetype": "text/x-python",
   "name": "python",
   "nbconvert_exporter": "python",
   "pygments_lexer": "ipython3",
   "version": "3.8.8"
  }
 },
 "nbformat": 4,
 "nbformat_minor": 5
}
