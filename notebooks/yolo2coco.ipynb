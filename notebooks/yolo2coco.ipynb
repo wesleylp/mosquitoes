{
   "cells": [
      {
         "cell_type": "code",
         "execution_count": 13,
         "metadata": {},
         "outputs": [],
         "source": [
            "import os\n",
            "import glob\n",
            "import shutil\n",
            "import json\n",
            "import numpy as np\n",
            "from PIL import Image\n",
            "from tqdm import tqdm_notebook as tqdm"
         ]
      },
      {
         "cell_type": "code",
         "execution_count": 14,
         "metadata": {},
         "outputs": [],
         "source": [
            "data_dir = '../data/data_aug/paste/'\n",
            "out_dir = data_dir\n",
            "images_path = os.path.join(data_dir, 'images')\n",
            "annot_path = data_dir + os.path.join(data_dir, 'labels')\n",
            "json_name = 'coco_format_%s.json'"
         ]
      },
      {
         "cell_type": "code",
         "execution_count": 15,
         "metadata": {},
         "outputs": [
            {
               "data": {
                  "application/vnd.jupyter.widget-view+json": {
                     "model_id": "70748bdb6ad0473e9f06287bf4c28247",
                     "version_major": 2,
                     "version_minor": 0
                  },
                  "text/plain": [
                     "HBox(children=(IntProgress(value=0, max=10665), HTML(value='')))"
                  ]
               },
               "metadata": {},
               "output_type": "display_data"
            },
            {
               "name": "stdout",
               "output_type": "stream",
               "text": [
                  "\n"
               ]
            }
         ],
         "source": [
            "# separating images by video folders\n",
            "images = glob.glob(images_path+'/*.png')\n",
            "for image in tqdm(images):\n",
            "    root = image.split('images/')[0]\n",
            "    video = image.split('images/')[-1][:17]\n",
            "    if not os.path.isdir(os.path.join(root, video)):\n",
            "        os.makedirs(os.path.join(root, video))\n",
            "    shutil.copyfile(image, os.path.join(root, video, image[-17:]))    "
         ]
      },
      {
         "cell_type": "code",
         "execution_count": 9,
         "metadata": {},
         "outputs": [],
         "source": [
            "def get_img_size(datapath):\n",
            "    img_pil = Image.open(datapath)\n",
            "    width, height = img_pil.size\n",
            "    return width, height\n",
            "\n",
            "\n",
            "def get_groundtruth(img_path, annotation_folder):\n",
            "    annot_path = None\n",
            "    if annotation_folder is not None:\n",
            "        # look for annotation file\n",
            "        annot_path = _find_annot_file(img_path, annotation_folder)\n",
            "\n",
            "    if annot_path is not None:\n",
            "        frame_number = _get_frame_number(img_path)\n",
            "        annotation = AnnotationImage(frame_number, annot_path)\n",
            "        boxes, labels = annotation.get_bboxes_labels()\n",
            "\n",
            "        return boxes, labels\n",
            "\n",
            "    return [], []"
         ]
      },
      {
         "cell_type": "code",
         "execution_count": 22,
         "metadata": {
            "scrolled": false
         },
         "outputs": [
            {
               "data": {
                  "application/vnd.jupyter.widget-view+json": {
                     "model_id": "6ce19c7d617a4236bbb773b6898a4ff4",
                     "version_major": 2,
                     "version_minor": 0
                  },
                  "text/plain": [
                     "HBox(children=(IntProgress(value=0, max=2), HTML(value='')))"
                  ]
               },
               "metadata": {},
               "output_type": "display_data"
            },
            {
               "name": "stdout",
               "output_type": "stream",
               "text": [
                  "Starting Train\n"
               ]
            },
            {
               "data": {
                  "application/vnd.jupyter.widget-view+json": {
                     "model_id": "2ada9fd807dd49cb8196acdf983876d6",
                     "version_major": 2,
                     "version_minor": 0
                  },
                  "text/plain": [
                     "HBox(children=(IntProgress(value=1, bar_style='info', max=1), HTML(value='')))"
                  ]
               },
               "metadata": {},
               "output_type": "display_data"
            },
            {
               "data": {
                  "application/vnd.jupyter.widget-view+json": {
                     "model_id": "5b68f13a5d304b238564de9cd2448f81",
                     "version_major": 2,
                     "version_minor": 0
                  },
                  "text/plain": [
                     "HBox(children=(IntProgress(value=0, max=1), HTML(value='')))"
                  ]
               },
               "metadata": {},
               "output_type": "display_data"
            },
            {
               "data": {
                  "application/vnd.jupyter.widget-view+json": {
                     "model_id": "331b1f12512f4cba9cb513bcebc7f8db",
                     "version_major": 2,
                     "version_minor": 0
                  },
                  "text/plain": [
                     "HBox(children=(IntProgress(value=0, max=2940), HTML(value='')))"
                  ]
               },
               "metadata": {},
               "output_type": "display_data"
            },
            {
               "data": {
                  "application/vnd.jupyter.widget-view+json": {
                     "model_id": "b085ef84e20e48f884d9920e864f71f7",
                     "version_major": 2,
                     "version_minor": 0
                  },
                  "text/plain": [
                     "HBox(children=(IntProgress(value=0, max=240), HTML(value='')))"
                  ]
               },
               "metadata": {},
               "output_type": "display_data"
            },
            {
               "data": {
                  "application/vnd.jupyter.widget-view+json": {
                     "model_id": "42879b281a94468e9a4dbeee55469a30",
                     "version_major": 2,
                     "version_minor": 0
                  },
                  "text/plain": [
                     "HBox(children=(IntProgress(value=0, max=1770), HTML(value='')))"
                  ]
               },
               "metadata": {},
               "output_type": "display_data"
            },
            {
               "name": "stdout",
               "output_type": "stream",
               "text": [
                  "Num categories: 1\n",
                  "Num images: 4950\n",
                  "Num annotations: 5419\n",
                  "Starting Test\n"
               ]
            },
            {
               "data": {
                  "application/vnd.jupyter.widget-view+json": {
                     "model_id": "161131a27e4b469ba9e73728aa9e4a26",
                     "version_major": 2,
                     "version_minor": 0
                  },
                  "text/plain": [
                     "HBox(children=(IntProgress(value=1, bar_style='info', max=1), HTML(value='')))"
                  ]
               },
               "metadata": {},
               "output_type": "display_data"
            },
            {
               "data": {
                  "application/vnd.jupyter.widget-view+json": {
                     "model_id": "c0424cce35254a449a2b8a3e3d8a120f",
                     "version_major": 2,
                     "version_minor": 0
                  },
                  "text/plain": [
                     "HBox(children=(IntProgress(value=0, max=1), HTML(value='')))"
                  ]
               },
               "metadata": {},
               "output_type": "display_data"
            },
            {
               "data": {
                  "application/vnd.jupyter.widget-view+json": {
                     "model_id": "586cea0591fd4055a656720b7a64124f",
                     "version_major": 2,
                     "version_minor": 0
                  },
                  "text/plain": [
                     "HBox(children=(IntProgress(value=0, max=1200), HTML(value='')))"
                  ]
               },
               "metadata": {},
               "output_type": "display_data"
            },
            {
               "data": {
                  "application/vnd.jupyter.widget-view+json": {
                     "model_id": "c0368985106144799cc92575ebac6497",
                     "version_major": 2,
                     "version_minor": 0
                  },
                  "text/plain": [
                     "HBox(children=(IntProgress(value=0, max=2025), HTML(value='')))"
                  ]
               },
               "metadata": {},
               "output_type": "display_data"
            },
            {
               "data": {
                  "application/vnd.jupyter.widget-view+json": {
                     "model_id": "efacb35024cf45db9c0726f86c01ad58",
                     "version_major": 2,
                     "version_minor": 0
                  },
                  "text/plain": [
                     "HBox(children=(IntProgress(value=0, max=2490), HTML(value='')))"
                  ]
               },
               "metadata": {},
               "output_type": "display_data"
            },
            {
               "name": "stdout",
               "output_type": "stream",
               "text": [
                  "Num categories: 1\n",
                  "Num images: 5715\n",
                  "Num annotations: 11210\n"
               ]
            }
         ],
         "source": [
            "sets = [\n",
            "        'Train',\n",
            "        'Test',\n",
            "]\n",
            "\n",
            "\n",
            "categories = [\n",
            "    '__background__',\n",
            "    'tire',\n",
            "    ]\n",
            "\n",
            "img_id = 0\n",
            "ann_id = 0\n",
            "cat_id = 1\n",
            "category_dict = {\n",
            "    #'__background__': 0,\n",
            "    'tire': 0,\n",
            "    }\n",
            "\n",
            "for data_set in tqdm(sets):\n",
            "    print(f'Starting {data_set}')\n",
            "    \n",
            "    ann_dict = {}\n",
            "    images = []\n",
            "    annotations = []\n",
            "    \n",
            "#     filenames = glob.glob(os.path.join(data_dir, data_set,'*.png'))\n",
            "    \n",
            "    for (dirpath, dirnames, filenames) in tqdm(os.walk(os.path.join(data_dir, data_set))):\n",
            "        if len(filenames) == 0:\n",
            "            continue\n",
            "    \n",
            "        for filename in tqdm(filenames):\n",
            "            if filename.lower().endswith(('.png')):               \n",
            "                image = {}\n",
            "                \n",
            "                img_name_short = os.path.join(os.path.split(dirpath)[-1], filename)\n",
            "                img_name = os.path.join(dirpath, filename)\n",
            "                    \n",
            "                width = get_img_size(img_name)[0]\n",
            "                height = get_img_size(img_name)[1]\n",
            "\n",
            "                image['file_name'] = img_name_short\n",
            "                image['width'] = width\n",
            "                image['height'] = height\n",
            "                image['id'] = img_id\n",
            "                \n",
            "                #read .txt in images folder\n",
            "                anno_filepath = os.path.join(data_dir, 'images', os.path.split(dirpath)[-1] + \n",
            "                                       '_'+os.path.split(filename)[-1].replace('.png','.txt'))\n",
            "                \n",
            "                if os.path.isfile(anno_filepath):\n",
            "                \n",
            "                    with open(anno_filepath, 'r') as marks:\n",
            "\n",
            "                        for mark in marks.readlines():\n",
            "                            rect = mark.replace('\\n','').split('\\t')\n",
            "                            objid,rcx,rcy,rw,rh = map(float,rect)\n",
            "                            x0 = int((rcx-rw/2)*width)\n",
            "                            y0 = int((rcy-rh/2)*height)\n",
            "                            w = int(rw*width)\n",
            "                            h = int(rh*height)\n",
            "\n",
            "                            ann = {}\n",
            "                            ann['id'] = ann_id\n",
            "                            ann['image_id'] = img_id\n",
            "                            ann['category_id'] = 0\n",
            "                            ann['iscrowd'] = 0\n",
            "                            ann['area'] = w*h\n",
            "                            ann['bbox'] = (x0,y0,w,h)\n",
            "\n",
            "                            annotations.append(ann)\n",
            "                            ann_id += 1\n",
            "                \n",
            "                #read .txt in labels folder                \n",
            "                else:\n",
            "                    anno_filepath = os.path.join(data_dir, 'labels', os.path.split(dirpath)[-1] + \n",
            "                                       '_'+os.path.split(filename)[-1].replace('.png','.txt'))\n",
            "\n",
            "                    with open(anno_filepath, 'r') as marks:\n",
            "\n",
            "                        for mark in marks.readlines():\n",
            "                            rect = mark.replace('\\n','').split(' ')\n",
            "                            objid,rcx,rcy,rw,rh = map(float,rect)\n",
            "                            x0 = int((rcx-rw/2)*width)\n",
            "                            y0 = int((rcy-rh/2)*height)\n",
            "                            w = int(rw*width)\n",
            "                            h = int(rh*height)\n",
            "\n",
            "                            ann = {}\n",
            "                            ann['id'] = ann_id\n",
            "                            ann['image_id'] = img_id\n",
            "                            ann['category_id'] = 0\n",
            "                            ann['iscrowd'] = 0\n",
            "                            ann['area'] = w*h\n",
            "                            ann['bbox'] = (x0,y0,w,h)\n",
            "\n",
            "                            annotations.append(ann)\n",
            "                            ann_id += 1\n",
            "                        \n",
            "                        \n",
            "                images.append(image)\n",
            "                img_id += 1\n",
            "\n",
            "            \n",
            "    ann_dict['images'] = images\n",
            "    categories = [{\"id\": category_dict[name], \"name\": name} for name in category_dict]\n",
            "    ann_dict['categories'] = categories\n",
            "    ann_dict['annotations'] = annotations\n",
            "    print(\"Num categories: %s\" % len(categories))\n",
            "    print(\"Num images: %s\" % len(images))\n",
            "    print(\"Num annotations: %s\" % len(annotations))\n",
            "    \n",
            "    with open(os.path.join(out_dir, json_name % data_set), 'w') as outfile:\n",
            "        outfile.write(json.dumps(ann_dict))"
         ]
      },
      {
         "cell_type": "code",
         "execution_count": null,
         "metadata": {},
         "outputs": [],
         "source": []
      }
   ],
   "metadata": {
      "kernelspec": {
         "display_name": "Python 3",
         "language": "python",
         "name": "python3"
      },
      "language_info": {
         "codemirror_mode": {
            "name": "ipython",
            "version": 3
         },
         "file_extension": ".py",
         "mimetype": "text/x-python",
         "name": "python",
         "nbconvert_exporter": "python",
         "pygments_lexer": "ipython3",
         "version": "3.6.6"
      }
   },
   "nbformat": 4,
   "nbformat_minor": 2
}