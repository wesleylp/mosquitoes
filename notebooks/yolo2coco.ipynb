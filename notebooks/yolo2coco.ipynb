{
 "cells": [
  {
   "cell_type": "code",
   "execution_count": 1,
   "metadata": {},
   "outputs": [],
   "source": [
    "import os\n",
    "import glob\n",
    "import shutil\n",
    "import json\n",
    "import numpy as np\n",
    "from PIL import Image\n",
    "from tqdm.auto import tqdm as tqdm\n",
    "import numpy as np\n",
    "import pandas as pd\n",
    "from itertools import product\n",
    "\n",
    "np.random.seed(42)"
   ]
  },
  {
   "cell_type": "code",
   "execution_count": 5,
   "metadata": {},
   "outputs": [],
   "source": [
    "method = 'Harmonized_Tires_Artificial'\n",
    "root_dir = os.path.join('..','data', 'data_aug', 'GAN')\n",
    "\n",
    "data_dir = os.path.join(root_dir, method)\n",
    "annot_path = os.path.join(root_dir, method, 'labels')\n",
    "\n",
    "out_dir = data_dir\n",
    "images_path = os.path.join(root_dir, method)\n",
    "\n",
    "json_name = 'coco_format_%s_fold%s_%s.json'"
   ]
  },
  {
   "cell_type": "code",
   "execution_count": null,
   "metadata": {},
   "outputs": [],
   "source": [
    "# separating images by video folders\n",
    "images = glob.glob(images_path+'/*.png')\n",
    "for image in tqdm(images):\n",
    "    root = image.split(method)[0]\n",
    "    root = os.path.join(root, method)\n",
    "    \n",
    "    video = image.split(method)[-1][1:18]\n",
    "    if not os.path.isdir(os.path.join(root, video)):\n",
    "        os.makedirs(os.path.join(root, video))\n",
    "    shutil.copyfile(image, os.path.join(root, video, image[-14:]))    "
   ]
  },
  {
   "cell_type": "code",
   "execution_count": 3,
   "metadata": {},
   "outputs": [],
   "source": [
    "def get_img_size(datapath):\n",
    "    img_pil = Image.open(datapath)\n",
    "    width, height = img_pil.size\n",
    "    return width, height\n",
    "\n",
    "\n",
    "def get_groundtruth(img_path, annotation_folder):\n",
    "    annot_path = None\n",
    "    if annotation_folder is not None:\n",
    "        # look for annotation file\n",
    "        annot_path = _find_annot_file(img_path, annotation_folder)\n",
    "\n",
    "    if annot_path is not None:\n",
    "        frame_number = _get_frame_number(img_path)\n",
    "        annotation = AnnotationImage(frame_number, annot_path)\n",
    "        boxes, labels = annotation.get_bboxes_labels()\n",
    "\n",
    "        return boxes, labels\n",
    "\n",
    "    return [], []"
   ]
  },
  {
   "cell_type": "code",
   "execution_count": 4,
   "metadata": {},
   "outputs": [
    {
     "data": {
      "text/html": [
       "<div>\n",
       "<style scoped>\n",
       "    .dataframe tbody tr th:only-of-type {\n",
       "        vertical-align: middle;\n",
       "    }\n",
       "\n",
       "    .dataframe tbody tr th {\n",
       "        vertical-align: top;\n",
       "    }\n",
       "\n",
       "    .dataframe thead th {\n",
       "        text-align: right;\n",
       "    }\n",
       "</style>\n",
       "<table border=\"1\" class=\"dataframe\">\n",
       "  <thead>\n",
       "    <tr style=\"text-align: right;\">\n",
       "      <th></th>\n",
       "      <th>Video</th>\n",
       "      <th>bottle</th>\n",
       "      <th>bucket</th>\n",
       "      <th>pool</th>\n",
       "      <th>puddle</th>\n",
       "      <th>tire</th>\n",
       "      <th>water_tank</th>\n",
       "      <th>local</th>\n",
       "      <th>set_1</th>\n",
       "      <th>set_2</th>\n",
       "      <th>set_3</th>\n",
       "      <th>set_4</th>\n",
       "      <th>test</th>\n",
       "    </tr>\n",
       "  </thead>\n",
       "  <tbody>\n",
       "    <tr>\n",
       "      <th>0</th>\n",
       "      <td>20180905_rectfied_DJI_0010</td>\n",
       "      <td>34</td>\n",
       "      <td>6</td>\n",
       "      <td>4</td>\n",
       "      <td>0</td>\n",
       "      <td>21</td>\n",
       "      <td>0</td>\n",
       "      <td>Campo Gremio</td>\n",
       "      <td>1.0</td>\n",
       "      <td>1.0</td>\n",
       "      <td>1.0</td>\n",
       "      <td>NaN</td>\n",
       "      <td>NaN</td>\n",
       "    </tr>\n",
       "    <tr>\n",
       "      <th>1</th>\n",
       "      <td>20180919_rectfied_DJI_0018</td>\n",
       "      <td>9</td>\n",
       "      <td>10</td>\n",
       "      <td>5</td>\n",
       "      <td>0</td>\n",
       "      <td>24</td>\n",
       "      <td>0</td>\n",
       "      <td>Atras Bloco I</td>\n",
       "      <td>1.0</td>\n",
       "      <td>NaN</td>\n",
       "      <td>NaN</td>\n",
       "      <td>NaN</td>\n",
       "      <td>NaN</td>\n",
       "    </tr>\n",
       "    <tr>\n",
       "      <th>2</th>\n",
       "      <td>20180919_rectfied_DJI_0019</td>\n",
       "      <td>34</td>\n",
       "      <td>10</td>\n",
       "      <td>5</td>\n",
       "      <td>0</td>\n",
       "      <td>25</td>\n",
       "      <td>0</td>\n",
       "      <td>Atras Bloco I</td>\n",
       "      <td>1.0</td>\n",
       "      <td>NaN</td>\n",
       "      <td>NaN</td>\n",
       "      <td>NaN</td>\n",
       "      <td>NaN</td>\n",
       "    </tr>\n",
       "    <tr>\n",
       "      <th>3</th>\n",
       "      <td>20180919_rectfied_DJI_0021</td>\n",
       "      <td>0</td>\n",
       "      <td>11</td>\n",
       "      <td>0</td>\n",
       "      <td>0</td>\n",
       "      <td>0</td>\n",
       "      <td>204</td>\n",
       "      <td>Acima bloco I (video longo)</td>\n",
       "      <td>1.0</td>\n",
       "      <td>1.0</td>\n",
       "      <td>1.0</td>\n",
       "      <td>1.0</td>\n",
       "      <td>NaN</td>\n",
       "    </tr>\n",
       "    <tr>\n",
       "      <th>4</th>\n",
       "      <td>20181022_rectfied_DJI_0025</td>\n",
       "      <td>19</td>\n",
       "      <td>6</td>\n",
       "      <td>8</td>\n",
       "      <td>0</td>\n",
       "      <td>22</td>\n",
       "      <td>0</td>\n",
       "      <td>aeroclube</td>\n",
       "      <td>NaN</td>\n",
       "      <td>NaN</td>\n",
       "      <td>NaN</td>\n",
       "      <td>NaN</td>\n",
       "      <td>1.0</td>\n",
       "    </tr>\n",
       "    <tr>\n",
       "      <th>5</th>\n",
       "      <td>20181022_rectfied_DJI_0027</td>\n",
       "      <td>14</td>\n",
       "      <td>6</td>\n",
       "      <td>6</td>\n",
       "      <td>0</td>\n",
       "      <td>13</td>\n",
       "      <td>0</td>\n",
       "      <td>aeroclube</td>\n",
       "      <td>NaN</td>\n",
       "      <td>NaN</td>\n",
       "      <td>NaN</td>\n",
       "      <td>NaN</td>\n",
       "      <td>1.0</td>\n",
       "    </tr>\n",
       "    <tr>\n",
       "      <th>6</th>\n",
       "      <td>20181022_rectfied_DJI_0031</td>\n",
       "      <td>24</td>\n",
       "      <td>13</td>\n",
       "      <td>12</td>\n",
       "      <td>0</td>\n",
       "      <td>31</td>\n",
       "      <td>0</td>\n",
       "      <td>Atras FAU (wild)</td>\n",
       "      <td>NaN</td>\n",
       "      <td>NaN</td>\n",
       "      <td>NaN</td>\n",
       "      <td>NaN</td>\n",
       "      <td>1.0</td>\n",
       "    </tr>\n",
       "    <tr>\n",
       "      <th>7</th>\n",
       "      <td>20181029_rectfied_DJI_0033</td>\n",
       "      <td>17</td>\n",
       "      <td>27</td>\n",
       "      <td>20</td>\n",
       "      <td>0</td>\n",
       "      <td>20</td>\n",
       "      <td>5</td>\n",
       "      <td>CCMN</td>\n",
       "      <td>NaN</td>\n",
       "      <td>NaN</td>\n",
       "      <td>NaN</td>\n",
       "      <td>NaN</td>\n",
       "      <td>1.0</td>\n",
       "    </tr>\n",
       "    <tr>\n",
       "      <th>8</th>\n",
       "      <td>20181029_rectfied_DJI_0034</td>\n",
       "      <td>5</td>\n",
       "      <td>26</td>\n",
       "      <td>24</td>\n",
       "      <td>0</td>\n",
       "      <td>30</td>\n",
       "      <td>5</td>\n",
       "      <td>CCMN</td>\n",
       "      <td>NaN</td>\n",
       "      <td>NaN</td>\n",
       "      <td>NaN</td>\n",
       "      <td>NaN</td>\n",
       "      <td>1.0</td>\n",
       "    </tr>\n",
       "    <tr>\n",
       "      <th>9</th>\n",
       "      <td>20181029_rectfied_DJI_0038</td>\n",
       "      <td>43</td>\n",
       "      <td>32</td>\n",
       "      <td>18</td>\n",
       "      <td>6</td>\n",
       "      <td>40</td>\n",
       "      <td>0</td>\n",
       "      <td>frente FAU</td>\n",
       "      <td>1.0</td>\n",
       "      <td>1.0</td>\n",
       "      <td>1.0</td>\n",
       "      <td>1.0</td>\n",
       "      <td>NaN</td>\n",
       "    </tr>\n",
       "    <tr>\n",
       "      <th>10</th>\n",
       "      <td>20181029_rectfied_DJI_0039</td>\n",
       "      <td>25</td>\n",
       "      <td>33</td>\n",
       "      <td>25</td>\n",
       "      <td>0</td>\n",
       "      <td>47</td>\n",
       "      <td>0</td>\n",
       "      <td>frente FAU</td>\n",
       "      <td>1.0</td>\n",
       "      <td>1.0</td>\n",
       "      <td>1.0</td>\n",
       "      <td>1.0</td>\n",
       "      <td>NaN</td>\n",
       "    </tr>\n",
       "    <tr>\n",
       "      <th>11</th>\n",
       "      <td>20181112_rectfied_DJI_0041</td>\n",
       "      <td>45</td>\n",
       "      <td>13</td>\n",
       "      <td>3</td>\n",
       "      <td>0</td>\n",
       "      <td>18</td>\n",
       "      <td>0</td>\n",
       "      <td>Terreno Atras Bloco I</td>\n",
       "      <td>1.0</td>\n",
       "      <td>1.0</td>\n",
       "      <td>NaN</td>\n",
       "      <td>NaN</td>\n",
       "      <td>NaN</td>\n",
       "    </tr>\n",
       "    <tr>\n",
       "      <th>12</th>\n",
       "      <td>20181112_rectfied_DJI_0042</td>\n",
       "      <td>15</td>\n",
       "      <td>6</td>\n",
       "      <td>2</td>\n",
       "      <td>0</td>\n",
       "      <td>23</td>\n",
       "      <td>0</td>\n",
       "      <td>Terreno Atras Bloco I</td>\n",
       "      <td>1.0</td>\n",
       "      <td>1.0</td>\n",
       "      <td>NaN</td>\n",
       "      <td>NaN</td>\n",
       "      <td>NaN</td>\n",
       "    </tr>\n",
       "    <tr>\n",
       "      <th>13</th>\n",
       "      <td>20181112_rectfied_DJI_0043</td>\n",
       "      <td>0</td>\n",
       "      <td>15</td>\n",
       "      <td>13</td>\n",
       "      <td>5</td>\n",
       "      <td>12</td>\n",
       "      <td>0</td>\n",
       "      <td>Acima bloco I</td>\n",
       "      <td>1.0</td>\n",
       "      <td>1.0</td>\n",
       "      <td>1.0</td>\n",
       "      <td>NaN</td>\n",
       "      <td>NaN</td>\n",
       "    </tr>\n",
       "    <tr>\n",
       "      <th>14</th>\n",
       "      <td>20190601_rectfied_DJI_0002</td>\n",
       "      <td>?</td>\n",
       "      <td>?</td>\n",
       "      <td>?</td>\n",
       "      <td>?</td>\n",
       "      <td>3</td>\n",
       "      <td>?</td>\n",
       "      <td>Tubiacanga</td>\n",
       "      <td>1.0</td>\n",
       "      <td>1.0</td>\n",
       "      <td>1.0</td>\n",
       "      <td>1.0</td>\n",
       "      <td>NaN</td>\n",
       "    </tr>\n",
       "    <tr>\n",
       "      <th>15</th>\n",
       "      <td>20190601_rectfied_DJI_0003</td>\n",
       "      <td>?</td>\n",
       "      <td>?</td>\n",
       "      <td>?</td>\n",
       "      <td>?</td>\n",
       "      <td>0</td>\n",
       "      <td>?</td>\n",
       "      <td>Tubiacanga</td>\n",
       "      <td>1.0</td>\n",
       "      <td>1.0</td>\n",
       "      <td>1.0</td>\n",
       "      <td>1.0</td>\n",
       "      <td>NaN</td>\n",
       "    </tr>\n",
       "    <tr>\n",
       "      <th>16</th>\n",
       "      <td>20190601_rectfied_DJI_0005</td>\n",
       "      <td>?</td>\n",
       "      <td>?</td>\n",
       "      <td>?</td>\n",
       "      <td>?</td>\n",
       "      <td>43</td>\n",
       "      <td>?</td>\n",
       "      <td>Tubiacanga</td>\n",
       "      <td>1.0</td>\n",
       "      <td>1.0</td>\n",
       "      <td>1.0</td>\n",
       "      <td>1.0</td>\n",
       "      <td>NaN</td>\n",
       "    </tr>\n",
       "    <tr>\n",
       "      <th>17</th>\n",
       "      <td>20190601_rectfied_DJI_0006</td>\n",
       "      <td>?</td>\n",
       "      <td>?</td>\n",
       "      <td>?</td>\n",
       "      <td>?</td>\n",
       "      <td>123</td>\n",
       "      <td>?</td>\n",
       "      <td>Tubiacanga</td>\n",
       "      <td>1.0</td>\n",
       "      <td>1.0</td>\n",
       "      <td>1.0</td>\n",
       "      <td>1.0</td>\n",
       "      <td>NaN</td>\n",
       "    </tr>\n",
       "  </tbody>\n",
       "</table>\n",
       "</div>"
      ],
      "text/plain": [
       "                         Video bottle bucket pool puddle  tire water_tank  \\\n",
       "0   20180905_rectfied_DJI_0010     34      6    4      0    21          0   \n",
       "1   20180919_rectfied_DJI_0018      9     10    5      0    24          0   \n",
       "2   20180919_rectfied_DJI_0019     34     10    5      0    25          0   \n",
       "3   20180919_rectfied_DJI_0021      0     11    0      0     0        204   \n",
       "4   20181022_rectfied_DJI_0025     19      6    8      0    22          0   \n",
       "5   20181022_rectfied_DJI_0027     14      6    6      0    13          0   \n",
       "6   20181022_rectfied_DJI_0031     24     13   12      0    31          0   \n",
       "7   20181029_rectfied_DJI_0033     17     27   20      0    20          5   \n",
       "8   20181029_rectfied_DJI_0034      5     26   24      0    30          5   \n",
       "9   20181029_rectfied_DJI_0038     43     32   18      6    40          0   \n",
       "10  20181029_rectfied_DJI_0039     25     33   25      0    47          0   \n",
       "11  20181112_rectfied_DJI_0041     45     13    3      0    18          0   \n",
       "12  20181112_rectfied_DJI_0042     15      6    2      0    23          0   \n",
       "13  20181112_rectfied_DJI_0043      0     15   13      5    12          0   \n",
       "14  20190601_rectfied_DJI_0002      ?      ?    ?      ?     3          ?   \n",
       "15  20190601_rectfied_DJI_0003      ?      ?    ?      ?     0          ?   \n",
       "16  20190601_rectfied_DJI_0005      ?      ?    ?      ?    43          ?   \n",
       "17  20190601_rectfied_DJI_0006      ?      ?    ?      ?   123          ?   \n",
       "\n",
       "                          local  set_1  set_2  set_3  set_4  test  \n",
       "0                  Campo Gremio    1.0    1.0    1.0    NaN   NaN  \n",
       "1                 Atras Bloco I    1.0    NaN    NaN    NaN   NaN  \n",
       "2                 Atras Bloco I    1.0    NaN    NaN    NaN   NaN  \n",
       "3   Acima bloco I (video longo)    1.0    1.0    1.0    1.0   NaN  \n",
       "4                     aeroclube    NaN    NaN    NaN    NaN   1.0  \n",
       "5                     aeroclube    NaN    NaN    NaN    NaN   1.0  \n",
       "6              Atras FAU (wild)    NaN    NaN    NaN    NaN   1.0  \n",
       "7                          CCMN    NaN    NaN    NaN    NaN   1.0  \n",
       "8                          CCMN    NaN    NaN    NaN    NaN   1.0  \n",
       "9                    frente FAU    1.0    1.0    1.0    1.0   NaN  \n",
       "10                   frente FAU    1.0    1.0    1.0    1.0   NaN  \n",
       "11        Terreno Atras Bloco I    1.0    1.0    NaN    NaN   NaN  \n",
       "12        Terreno Atras Bloco I    1.0    1.0    NaN    NaN   NaN  \n",
       "13                Acima bloco I    1.0    1.0    1.0    NaN   NaN  \n",
       "14                   Tubiacanga    1.0    1.0    1.0    1.0   NaN  \n",
       "15                   Tubiacanga    1.0    1.0    1.0    1.0   NaN  \n",
       "16                   Tubiacanga    1.0    1.0    1.0    1.0   NaN  \n",
       "17                   Tubiacanga    1.0    1.0    1.0    1.0   NaN  "
      ]
     },
     "execution_count": 4,
     "metadata": {},
     "output_type": "execute_result"
    }
   ],
   "source": [
    "k = 2 #fold\n",
    "file_set = '../train_sets_kfold.xls'\n",
    "df_sets = pd.read_excel(file_set, sheet_name=f'train_sets_k{k}')\n",
    "df_sets"
   ]
  },
  {
   "cell_type": "code",
   "execution_count": 12,
   "metadata": {
    "scrolled": false
   },
   "outputs": [
    {
     "data": {
      "application/vnd.jupyter.widget-view+json": {
       "model_id": "d0d241907a144043a317e61d94071a52",
       "version_major": 2,
       "version_minor": 0
      },
      "text/plain": [
       "HBox(children=(FloatProgress(value=1.0, bar_style='info', max=1.0), HTML(value='')))"
      ]
     },
     "metadata": {},
     "output_type": "display_data"
    },
    {
     "name": "stdout",
     "output_type": "stream",
     "text": [
      "Starting ('lum_blurblend', 'set_1')\n"
     ]
    },
    {
     "data": {
      "application/vnd.jupyter.widget-view+json": {
       "model_id": "e2e153803a424d43bd6039182b8eae6d",
       "version_major": 2,
       "version_minor": 0
      },
      "text/plain": [
       "HBox(children=(FloatProgress(value=1.0, bar_style='info', max=1.0), HTML(value='')))"
      ]
     },
     "metadata": {},
     "output_type": "display_data"
    },
    {
     "data": {
      "application/vnd.jupyter.widget-view+json": {
       "model_id": "ec44fc5960344b748db84a109d3d766f",
       "version_major": 2,
       "version_minor": 0
      },
      "text/plain": [
       "HBox(children=(FloatProgress(value=0.0, max=262.0), HTML(value='')))"
      ]
     },
     "metadata": {},
     "output_type": "display_data"
    },
    {
     "name": "stdout",
     "output_type": "stream",
     "text": [
      "\n"
     ]
    },
    {
     "data": {
      "application/vnd.jupyter.widget-view+json": {
       "model_id": "827f69086ec94fee97e1a37df4646028",
       "version_major": 2,
       "version_minor": 0
      },
      "text/plain": [
       "HBox(children=(FloatProgress(value=0.0, max=262.0), HTML(value='')))"
      ]
     },
     "metadata": {},
     "output_type": "display_data"
    },
    {
     "name": "stdout",
     "output_type": "stream",
     "text": [
      "\n"
     ]
    },
    {
     "data": {
      "application/vnd.jupyter.widget-view+json": {
       "model_id": "9310b9388886415686324a316b95fdae",
       "version_major": 2,
       "version_minor": 0
      },
      "text/plain": [
       "HBox(children=(FloatProgress(value=0.0, max=262.0), HTML(value='')))"
      ]
     },
     "metadata": {},
     "output_type": "display_data"
    },
    {
     "name": "stdout",
     "output_type": "stream",
     "text": [
      "\n"
     ]
    },
    {
     "data": {
      "application/vnd.jupyter.widget-view+json": {
       "model_id": "fc78b4c28595404fb2ac25f7aaa74d11",
       "version_major": 2,
       "version_minor": 0
      },
      "text/plain": [
       "HBox(children=(FloatProgress(value=0.0, max=262.0), HTML(value='')))"
      ]
     },
     "metadata": {},
     "output_type": "display_data"
    },
    {
     "name": "stdout",
     "output_type": "stream",
     "text": [
      "\n"
     ]
    },
    {
     "data": {
      "application/vnd.jupyter.widget-view+json": {
       "model_id": "0957462a245b4ae4aaa262257f194d2c",
       "version_major": 2,
       "version_minor": 0
      },
      "text/plain": [
       "HBox(children=(FloatProgress(value=0.0, max=245.0), HTML(value='')))"
      ]
     },
     "metadata": {},
     "output_type": "display_data"
    },
    {
     "name": "stdout",
     "output_type": "stream",
     "text": [
      "\n"
     ]
    },
    {
     "data": {
      "application/vnd.jupyter.widget-view+json": {
       "model_id": "f9ba88062e0244e7a9a711de500d595b",
       "version_major": 2,
       "version_minor": 0
      },
      "text/plain": [
       "HBox(children=(FloatProgress(value=0.0, max=38.0), HTML(value='')))"
      ]
     },
     "metadata": {},
     "output_type": "display_data"
    },
    {
     "name": "stdout",
     "output_type": "stream",
     "text": [
      "\n"
     ]
    },
    {
     "data": {
      "application/vnd.jupyter.widget-view+json": {
       "model_id": "13ffe2c565e24dc5afb2774a762d6aa5",
       "version_major": 2,
       "version_minor": 0
      },
      "text/plain": [
       "HBox(children=(FloatProgress(value=0.0, max=38.0), HTML(value='')))"
      ]
     },
     "metadata": {},
     "output_type": "display_data"
    },
    {
     "name": "stdout",
     "output_type": "stream",
     "text": [
      "\n"
     ]
    },
    {
     "data": {
      "application/vnd.jupyter.widget-view+json": {
       "model_id": "19ffed8903e84613985290bd9d9c8b6e",
       "version_major": 2,
       "version_minor": 0
      },
      "text/plain": [
       "HBox(children=(FloatProgress(value=0.0, max=359.0), HTML(value='')))"
      ]
     },
     "metadata": {},
     "output_type": "display_data"
    },
    {
     "name": "stdout",
     "output_type": "stream",
     "text": [
      "\n"
     ]
    },
    {
     "data": {
      "application/vnd.jupyter.widget-view+json": {
       "model_id": "418ab7750e50448ba49d998e1d4a9fbc",
       "version_major": 2,
       "version_minor": 0
      },
      "text/plain": [
       "HBox(children=(FloatProgress(value=0.0, max=300.0), HTML(value='')))"
      ]
     },
     "metadata": {},
     "output_type": "display_data"
    },
    {
     "name": "stdout",
     "output_type": "stream",
     "text": [
      "\n"
     ]
    },
    {
     "data": {
      "application/vnd.jupyter.widget-view+json": {
       "model_id": "1ec261df615248acbf9fbe0f4dc63aec",
       "version_major": 2,
       "version_minor": 0
      },
      "text/plain": [
       "HBox(children=(FloatProgress(value=0.0, max=301.0), HTML(value='')))"
      ]
     },
     "metadata": {},
     "output_type": "display_data"
    },
    {
     "name": "stdout",
     "output_type": "stream",
     "text": [
      "\n"
     ]
    },
    {
     "data": {
      "application/vnd.jupyter.widget-view+json": {
       "model_id": "32988f1525954b6ab95ac96055b2924e",
       "version_major": 2,
       "version_minor": 0
      },
      "text/plain": [
       "HBox(children=(FloatProgress(value=0.0, max=156.0), HTML(value='')))"
      ]
     },
     "metadata": {},
     "output_type": "display_data"
    },
    {
     "name": "stdout",
     "output_type": "stream",
     "text": [
      "\n"
     ]
    },
    {
     "data": {
      "application/vnd.jupyter.widget-view+json": {
       "model_id": "8d31a04dfea846f2b2abf1e62eced6c0",
       "version_major": 2,
       "version_minor": 0
      },
      "text/plain": [
       "HBox(children=(FloatProgress(value=0.0, max=159.0), HTML(value='')))"
      ]
     },
     "metadata": {},
     "output_type": "display_data"
    },
    {
     "name": "stdout",
     "output_type": "stream",
     "text": [
      "\n"
     ]
    },
    {
     "data": {
      "application/vnd.jupyter.widget-view+json": {
       "model_id": "4b2a9d313e604271b0130f5daba3281d",
       "version_major": 2,
       "version_minor": 0
      },
      "text/plain": [
       "HBox(children=(FloatProgress(value=0.0, max=258.0), HTML(value='')))"
      ]
     },
     "metadata": {},
     "output_type": "display_data"
    },
    {
     "name": "stdout",
     "output_type": "stream",
     "text": [
      "\n",
      "\n",
      "Num categories: 1\n",
      "Num images: 2902\n",
      "Num annotations: 498\n",
      "Starting ('lum_blurblend', 'set_2')\n"
     ]
    },
    {
     "data": {
      "application/vnd.jupyter.widget-view+json": {
       "model_id": "f706b9ddd0334292ba8391c9c4b77d24",
       "version_major": 2,
       "version_minor": 0
      },
      "text/plain": [
       "HBox(children=(FloatProgress(value=1.0, bar_style='info', max=1.0), HTML(value='')))"
      ]
     },
     "metadata": {},
     "output_type": "display_data"
    },
    {
     "data": {
      "application/vnd.jupyter.widget-view+json": {
       "model_id": "bbbcd505f83f4411821f5c01da1b8a7e",
       "version_major": 2,
       "version_minor": 0
      },
      "text/plain": [
       "HBox(children=(FloatProgress(value=0.0, max=262.0), HTML(value='')))"
      ]
     },
     "metadata": {},
     "output_type": "display_data"
    },
    {
     "name": "stdout",
     "output_type": "stream",
     "text": [
      "\n"
     ]
    },
    {
     "data": {
      "application/vnd.jupyter.widget-view+json": {
       "model_id": "ed3df7587375475294bad6bce6b856d0",
       "version_major": 2,
       "version_minor": 0
      },
      "text/plain": [
       "HBox(children=(FloatProgress(value=0.0, max=262.0), HTML(value='')))"
      ]
     },
     "metadata": {},
     "output_type": "display_data"
    },
    {
     "name": "stdout",
     "output_type": "stream",
     "text": [
      "\n"
     ]
    },
    {
     "data": {
      "application/vnd.jupyter.widget-view+json": {
       "model_id": "a08a80e06f0543728297528e926b9383",
       "version_major": 2,
       "version_minor": 0
      },
      "text/plain": [
       "HBox(children=(FloatProgress(value=0.0, max=262.0), HTML(value='')))"
      ]
     },
     "metadata": {},
     "output_type": "display_data"
    },
    {
     "name": "stdout",
     "output_type": "stream",
     "text": [
      "\n"
     ]
    },
    {
     "data": {
      "application/vnd.jupyter.widget-view+json": {
       "model_id": "591cd6918e3e4030a4512e26d3af09ec",
       "version_major": 2,
       "version_minor": 0
      },
      "text/plain": [
       "HBox(children=(FloatProgress(value=0.0, max=262.0), HTML(value='')))"
      ]
     },
     "metadata": {},
     "output_type": "display_data"
    },
    {
     "name": "stdout",
     "output_type": "stream",
     "text": [
      "\n"
     ]
    },
    {
     "data": {
      "application/vnd.jupyter.widget-view+json": {
       "model_id": "79a0aeb7e8ab4244bb28de3b9f26bb39",
       "version_major": 2,
       "version_minor": 0
      },
      "text/plain": [
       "HBox(children=(FloatProgress(value=0.0, max=245.0), HTML(value='')))"
      ]
     },
     "metadata": {},
     "output_type": "display_data"
    },
    {
     "name": "stdout",
     "output_type": "stream",
     "text": [
      "\n"
     ]
    },
    {
     "data": {
      "application/vnd.jupyter.widget-view+json": {
       "model_id": "d66d8ea118f54bdc8502cb00cb3783d2",
       "version_major": 2,
       "version_minor": 0
      },
      "text/plain": [
       "HBox(children=(FloatProgress(value=0.0, max=359.0), HTML(value='')))"
      ]
     },
     "metadata": {},
     "output_type": "display_data"
    },
    {
     "name": "stdout",
     "output_type": "stream",
     "text": [
      "\n"
     ]
    },
    {
     "data": {
      "application/vnd.jupyter.widget-view+json": {
       "model_id": "9cc6d4dd6a8c41328dd220fedd799986",
       "version_major": 2,
       "version_minor": 0
      },
      "text/plain": [
       "HBox(children=(FloatProgress(value=0.0, max=300.0), HTML(value='')))"
      ]
     },
     "metadata": {},
     "output_type": "display_data"
    },
    {
     "name": "stdout",
     "output_type": "stream",
     "text": [
      "\n"
     ]
    },
    {
     "data": {
      "application/vnd.jupyter.widget-view+json": {
       "model_id": "452e27bbb799480f8f1b1e053ee0b805",
       "version_major": 2,
       "version_minor": 0
      },
      "text/plain": [
       "HBox(children=(FloatProgress(value=0.0, max=301.0), HTML(value='')))"
      ]
     },
     "metadata": {},
     "output_type": "display_data"
    },
    {
     "name": "stdout",
     "output_type": "stream",
     "text": [
      "\n"
     ]
    },
    {
     "data": {
      "application/vnd.jupyter.widget-view+json": {
       "model_id": "f46d9609c1b44bd58a72b353ce45e74d",
       "version_major": 2,
       "version_minor": 0
      },
      "text/plain": [
       "HBox(children=(FloatProgress(value=0.0, max=156.0), HTML(value='')))"
      ]
     },
     "metadata": {},
     "output_type": "display_data"
    },
    {
     "name": "stdout",
     "output_type": "stream",
     "text": [
      "\n"
     ]
    },
    {
     "data": {
      "application/vnd.jupyter.widget-view+json": {
       "model_id": "bcf04e8aecce4b739d13b1e81c34e432",
       "version_major": 2,
       "version_minor": 0
      },
      "text/plain": [
       "HBox(children=(FloatProgress(value=0.0, max=159.0), HTML(value='')))"
      ]
     },
     "metadata": {},
     "output_type": "display_data"
    },
    {
     "name": "stdout",
     "output_type": "stream",
     "text": [
      "\n"
     ]
    },
    {
     "data": {
      "application/vnd.jupyter.widget-view+json": {
       "model_id": "6c7b6b2561f44a82b5dd39efd44c501c",
       "version_major": 2,
       "version_minor": 0
      },
      "text/plain": [
       "HBox(children=(FloatProgress(value=0.0, max=258.0), HTML(value='')))"
      ]
     },
     "metadata": {},
     "output_type": "display_data"
    },
    {
     "name": "stdout",
     "output_type": "stream",
     "text": [
      "\n",
      "\n",
      "Num categories: 1\n",
      "Num images: 2826\n",
      "Num annotations: 410\n",
      "Starting ('lum_blurblend', 'set_3')\n"
     ]
    },
    {
     "data": {
      "application/vnd.jupyter.widget-view+json": {
       "model_id": "92512da6b85e45d58c266ffd44fed3e5",
       "version_major": 2,
       "version_minor": 0
      },
      "text/plain": [
       "HBox(children=(FloatProgress(value=1.0, bar_style='info', max=1.0), HTML(value='')))"
      ]
     },
     "metadata": {},
     "output_type": "display_data"
    },
    {
     "data": {
      "application/vnd.jupyter.widget-view+json": {
       "model_id": "f789d96de4cf42849ccd6fd2afd817d7",
       "version_major": 2,
       "version_minor": 0
      },
      "text/plain": [
       "HBox(children=(FloatProgress(value=0.0, max=262.0), HTML(value='')))"
      ]
     },
     "metadata": {},
     "output_type": "display_data"
    },
    {
     "name": "stdout",
     "output_type": "stream",
     "text": [
      "\n"
     ]
    },
    {
     "data": {
      "application/vnd.jupyter.widget-view+json": {
       "model_id": "daf49cc48d1841dca741e9ef4cd088bc",
       "version_major": 2,
       "version_minor": 0
      },
      "text/plain": [
       "HBox(children=(FloatProgress(value=0.0, max=262.0), HTML(value='')))"
      ]
     },
     "metadata": {},
     "output_type": "display_data"
    },
    {
     "name": "stdout",
     "output_type": "stream",
     "text": [
      "\n"
     ]
    },
    {
     "data": {
      "application/vnd.jupyter.widget-view+json": {
       "model_id": "9bb6328425e3413c9af53c999505c60f",
       "version_major": 2,
       "version_minor": 0
      },
      "text/plain": [
       "HBox(children=(FloatProgress(value=0.0, max=262.0), HTML(value='')))"
      ]
     },
     "metadata": {},
     "output_type": "display_data"
    },
    {
     "name": "stdout",
     "output_type": "stream",
     "text": [
      "\n"
     ]
    },
    {
     "data": {
      "application/vnd.jupyter.widget-view+json": {
       "model_id": "414a18d6bfee4798949a4777b336afe2",
       "version_major": 2,
       "version_minor": 0
      },
      "text/plain": [
       "HBox(children=(FloatProgress(value=0.0, max=262.0), HTML(value='')))"
      ]
     },
     "metadata": {},
     "output_type": "display_data"
    },
    {
     "name": "stdout",
     "output_type": "stream",
     "text": [
      "\n"
     ]
    },
    {
     "data": {
      "application/vnd.jupyter.widget-view+json": {
       "model_id": "aedb87cc89244e598194ab139ba1dbae",
       "version_major": 2,
       "version_minor": 0
      },
      "text/plain": [
       "HBox(children=(FloatProgress(value=0.0, max=245.0), HTML(value='')))"
      ]
     },
     "metadata": {},
     "output_type": "display_data"
    },
    {
     "name": "stdout",
     "output_type": "stream",
     "text": [
      "\n"
     ]
    },
    {
     "data": {
      "application/vnd.jupyter.widget-view+json": {
       "model_id": "544977c675cc4c7a823d5aa4491af093",
       "version_major": 2,
       "version_minor": 0
      },
      "text/plain": [
       "HBox(children=(FloatProgress(value=0.0, max=359.0), HTML(value='')))"
      ]
     },
     "metadata": {},
     "output_type": "display_data"
    },
    {
     "name": "stdout",
     "output_type": "stream",
     "text": [
      "\n"
     ]
    },
    {
     "data": {
      "application/vnd.jupyter.widget-view+json": {
       "model_id": "6ceeef80811743e481065b9b725c652a",
       "version_major": 2,
       "version_minor": 0
      },
      "text/plain": [
       "HBox(children=(FloatProgress(value=0.0, max=300.0), HTML(value='')))"
      ]
     },
     "metadata": {},
     "output_type": "display_data"
    },
    {
     "name": "stdout",
     "output_type": "stream",
     "text": [
      "\n"
     ]
    },
    {
     "data": {
      "application/vnd.jupyter.widget-view+json": {
       "model_id": "b0a2c53cc9514000b6919a3bbd5ceb6d",
       "version_major": 2,
       "version_minor": 0
      },
      "text/plain": [
       "HBox(children=(FloatProgress(value=0.0, max=301.0), HTML(value='')))"
      ]
     },
     "metadata": {},
     "output_type": "display_data"
    },
    {
     "name": "stdout",
     "output_type": "stream",
     "text": [
      "\n"
     ]
    },
    {
     "data": {
      "application/vnd.jupyter.widget-view+json": {
       "model_id": "1727921fb6694854a3ffda6d0eb1cb22",
       "version_major": 2,
       "version_minor": 0
      },
      "text/plain": [
       "HBox(children=(FloatProgress(value=0.0, max=258.0), HTML(value='')))"
      ]
     },
     "metadata": {},
     "output_type": "display_data"
    },
    {
     "name": "stdout",
     "output_type": "stream",
     "text": [
      "\n",
      "\n",
      "Num categories: 1\n",
      "Num images: 2511\n",
      "Num annotations: 326\n",
      "Starting ('lum_blurblend', 'set_4')\n"
     ]
    },
    {
     "data": {
      "application/vnd.jupyter.widget-view+json": {
       "model_id": "dc8af5cb20c34e3e88e295dfcb95e2bc",
       "version_major": 2,
       "version_minor": 0
      },
      "text/plain": [
       "HBox(children=(FloatProgress(value=1.0, bar_style='info', max=1.0), HTML(value='')))"
      ]
     },
     "metadata": {},
     "output_type": "display_data"
    },
    {
     "data": {
      "application/vnd.jupyter.widget-view+json": {
       "model_id": "4edd0d0100444c8db320d7c0572d4d7a",
       "version_major": 2,
       "version_minor": 0
      },
      "text/plain": [
       "HBox(children=(FloatProgress(value=0.0, max=262.0), HTML(value='')))"
      ]
     },
     "metadata": {},
     "output_type": "display_data"
    },
    {
     "name": "stdout",
     "output_type": "stream",
     "text": [
      "\n"
     ]
    },
    {
     "data": {
      "application/vnd.jupyter.widget-view+json": {
       "model_id": "0ae6d39a6f514205adf001a256eeb7d0",
       "version_major": 2,
       "version_minor": 0
      },
      "text/plain": [
       "HBox(children=(FloatProgress(value=0.0, max=262.0), HTML(value='')))"
      ]
     },
     "metadata": {},
     "output_type": "display_data"
    },
    {
     "name": "stdout",
     "output_type": "stream",
     "text": [
      "\n"
     ]
    },
    {
     "data": {
      "application/vnd.jupyter.widget-view+json": {
       "model_id": "6446a6036c6d40f09614db7af00699a4",
       "version_major": 2,
       "version_minor": 0
      },
      "text/plain": [
       "HBox(children=(FloatProgress(value=0.0, max=262.0), HTML(value='')))"
      ]
     },
     "metadata": {},
     "output_type": "display_data"
    },
    {
     "name": "stdout",
     "output_type": "stream",
     "text": [
      "\n"
     ]
    },
    {
     "data": {
      "application/vnd.jupyter.widget-view+json": {
       "model_id": "784a825787cc4d298d4b4dcdffe2bc00",
       "version_major": 2,
       "version_minor": 0
      },
      "text/plain": [
       "HBox(children=(FloatProgress(value=0.0, max=262.0), HTML(value='')))"
      ]
     },
     "metadata": {},
     "output_type": "display_data"
    },
    {
     "name": "stdout",
     "output_type": "stream",
     "text": [
      "\n"
     ]
    },
    {
     "data": {
      "application/vnd.jupyter.widget-view+json": {
       "model_id": "8704adcd634544d6a244e7b66a6fda97",
       "version_major": 2,
       "version_minor": 0
      },
      "text/plain": [
       "HBox(children=(FloatProgress(value=0.0, max=359.0), HTML(value='')))"
      ]
     },
     "metadata": {},
     "output_type": "display_data"
    },
    {
     "name": "stdout",
     "output_type": "stream",
     "text": [
      "\n"
     ]
    },
    {
     "data": {
      "application/vnd.jupyter.widget-view+json": {
       "model_id": "ce3b882323ec4ab3b4860e78fd8aa1f7",
       "version_major": 2,
       "version_minor": 0
      },
      "text/plain": [
       "HBox(children=(FloatProgress(value=0.0, max=300.0), HTML(value='')))"
      ]
     },
     "metadata": {},
     "output_type": "display_data"
    },
    {
     "name": "stdout",
     "output_type": "stream",
     "text": [
      "\n"
     ]
    },
    {
     "data": {
      "application/vnd.jupyter.widget-view+json": {
       "model_id": "22af77b027804d36a51ab884995d0cd5",
       "version_major": 2,
       "version_minor": 0
      },
      "text/plain": [
       "HBox(children=(FloatProgress(value=0.0, max=301.0), HTML(value='')))"
      ]
     },
     "metadata": {},
     "output_type": "display_data"
    },
    {
     "name": "stdout",
     "output_type": "stream",
     "text": [
      "\n",
      "\n",
      "Num categories: 1\n",
      "Num images: 2008\n",
      "Num annotations: 254\n",
      "\n"
     ]
    }
   ],
   "source": [
    "include_reals = True\n",
    "subsets = ['set_1', 'set_2', 'set_3', 'set_4']\n",
    "\n",
    "sets = product([method], subsets)\n",
    "\n",
    "category_dict = {\n",
    "    #'__background__': 0,\n",
    "    'tire': 0,\n",
    "    }\n",
    "\n",
    "for method, subset in tqdm(sets):\n",
    "    print(f'Starting {method, subset}')\n",
    "    \n",
    "    videos_set = df_sets[df_sets[subset] == True]['Video'].tolist()\n",
    "    videos_set = [video[9:] for video in videos_set]\n",
    "        \n",
    "    ann_dict = {}\n",
    "    images = []\n",
    "    annotations = []\n",
    "        \n",
    "    img_id = 0\n",
    "    ann_id = 0\n",
    "    cat_id = 1\n",
    "    \n",
    "#     filenames = glob.glob(os.path.join(data_dir, data_set,'*.png'))\n",
    "    \n",
    "    for (dirpath, dirnames, filenames) in tqdm(os.walk(os.path.join(data_dir))):\n",
    "        if len(filenames) == 0:\n",
    "            continue\n",
    "    \n",
    "        video_name = os.path.split(dirpath)[-1]        \n",
    "        if video_name not in videos_set:\n",
    "            continue\n",
    "        \n",
    "        for filename in tqdm(filenames):\n",
    "            if filename.lower().endswith(('.png')):               \n",
    "                image = {}\n",
    "                \n",
    "                img_name_short = os.path.join(video_name, filename)\n",
    "                img_name = os.path.join(dirpath, filename)\n",
    "                \n",
    "                    \n",
    "                width, height = get_img_size(img_name)\n",
    "                \n",
    "                image['file_name'] = img_name_short\n",
    "                image['width'] = width\n",
    "                image['height'] = height\n",
    "                image['id'] = img_id\n",
    "                                \n",
    "                #read .txt in images folder\n",
    "                if include_reals:                    \n",
    "                    anno_filepath = os.path.join(root_dir, \"labels_reals\", \n",
    "                                                 video_name.replace('rectfied', 'rectified'), \n",
    "                                           filename.replace('.png','.txt'))\n",
    "                    \n",
    "                    if os.path.isfile(anno_filepath):\n",
    "                        num_real_in_img = 0\n",
    "                        \n",
    "                        with open(anno_filepath, 'r') as marks:\n",
    "                            for mark in marks.readlines():                                                          \n",
    "                                rect = mark.replace('\\n','').split('\\t')                                  \n",
    "                                \n",
    "                                if len(rect) <=1:\n",
    "                                    continue\n",
    "                                    \n",
    "                                objid,rcx,rcy,rw,rh = map(float,rect)\n",
    "                                x0 = int((rcx-rw/2)*3840) #hardcoded pq veio assim da annot\n",
    "                                y0 = int((rcy-rh/2)*height)\n",
    "                                w = int(rw*width)\n",
    "                                h = int(rh*height)\n",
    "\n",
    "                                ann = {}\n",
    "                                ann['id'] = ann_id\n",
    "                                ann['image_id'] = img_id\n",
    "                                ann['category_id'] = 0\n",
    "                                ann['iscrowd'] = 0\n",
    "                                ann['area'] = w*h\n",
    "                                ann['bbox'] = (x0,y0,w,h)\n",
    "\n",
    "                                annotations.append(ann)\n",
    "                                ann_id += 1    \n",
    "                                num_real_in_img += 1      \n",
    "                                \n",
    "                #read .txt in labels folder                                \n",
    "                anno_filepath = os.path.join(root_dir, \"labels_fake\", video_name + \n",
    "                                   '_'+filename.replace('.png','.txt'))\n",
    "\n",
    "                with open(anno_filepath, 'r') as marks:\n",
    "\n",
    "                    for mark in marks.readlines():                            \n",
    "                        rect = mark.replace('\\n','').split('\\t')\n",
    "\n",
    "                        if len(rect) <=1:\n",
    "                            continue\n",
    "\n",
    "                        objid,rcx,rcy,rw,rh = map(float,rect)\n",
    "                        x0 = int((rcx-rw/2)*3840) #hardcoded pq veio assim da annot\n",
    "                        y0 = int((rcy-rh/2)*height)\n",
    "                        w = int(rw*width)\n",
    "                        h = int(rh*height)                            \n",
    "\n",
    "                        ann = {}\n",
    "                        ann['id'] = ann_id\n",
    "                        ann['image_id'] = img_id\n",
    "                        ann['category_id'] = 0\n",
    "                        ann['iscrowd'] = 0\n",
    "                        ann['area'] = w*h\n",
    "                        ann['bbox'] = (x0,y0,w,h)\n",
    "\n",
    "                        annotations.append(ann)\n",
    "                        ann_id += 1\n",
    "                        \n",
    "                images.append(image)\n",
    "                img_id += 1\n",
    "\n",
    "            \n",
    "    ann_dict['images'] = images\n",
    "    categories = [{\"id\": category_dict[name], \"name\": name} for name in category_dict]\n",
    "    ann_dict['categories'] = categories\n",
    "    ann_dict['annotations'] = annotations\n",
    "    print(\"Num categories: %s\" % len(categories))\n",
    "    print(\"Num images: %s\" % len(images))\n",
    "    print(\"Num annotations: %s\" % len(annotations))\n",
    "    \n",
    "    \n",
    "    with open(os.path.join(out_dir, json_name % (method, k, subset)), 'w') as outfile:\n",
    "        outfile.write(json.dumps(ann_dict))"
   ]
  },
  {
   "cell_type": "code",
   "execution_count": null,
   "metadata": {},
   "outputs": [],
   "source": []
  }
 ],
 "metadata": {
  "kernelspec": {
   "display_name": "Python 3",
   "language": "python",
   "name": "python3"
  },
  "language_info": {
   "codemirror_mode": {
    "name": "ipython",
    "version": 3
   },
   "file_extension": ".py",
   "mimetype": "text/x-python",
   "name": "python",
   "nbconvert_exporter": "python",
   "pygments_lexer": "ipython3",
   "version": "3.8.2"
  }
 },
 "nbformat": 4,
 "nbformat_minor": 2
}
