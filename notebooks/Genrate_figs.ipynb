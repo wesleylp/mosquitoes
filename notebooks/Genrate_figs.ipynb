{
 "cells": [
  {
   "cell_type": "code",
   "execution_count": 1,
   "metadata": {},
   "outputs": [],
   "source": [
    "import matplotlib.pyplot as plt\n",
    "import seaborn as sns\n",
    "# faz figuras matplotlib aparecerem inline no notebook\n",
    "# ao inves de uma nova janela\n",
    "\n",
    "# if show_img_notebook:\n",
    "%matplotlib inline\n",
    "# %matplotlib notebook\n",
    "# sns.set('paper', 'white', 'colorblind', font_scale=2.2, \n",
    "#         rc={'lines.linewidth': 2, \n",
    "# #             'figure.figsize': (12.0, 10.0), \n",
    "#             'image.interpolation': 'nearest', \n",
    "#             'image.cmap': 'gray',\n",
    "#             'text.usetex': True})\n",
    "\n",
    "sns.set(\n",
    "    'paper', font_scale=2,\n",
    "        rc={'lines.linewidth': 2,\n",
    "            'text.usetex' : True,\n",
    "            'image.interpolation': 'nearest',\n",
    "            'image.cmap': 'gray',\n",
    "            'figure.figsize': (10.0, 8.0),\n",
    "            'legend.frameon': True,\n",
    "            'legend.fancybox': True,\n",
    "            }\n",
    "       )\n",
    "sns.set_style('whitegrid', {'axes.grid' : False})\n",
    "sns.set_palette('colorblind', color_codes=True)\n",
    "\n",
    "# # define valores padrões do tamanho dos plots\n",
    "# plt.rcParams['image.interpolation'] = 'nearest'\n",
    "# plt.rcParams['image.cmap'] = 'gray'\n",
    "# plt.rcParams['xtick.labelsize'] = 16\n",
    "# plt.rcParams['ytick.labelsize'] = 16\n",
    "# plt.rcParams['legend.fontsize'] = 16"
   ]
  },
  {
   "cell_type": "code",
   "execution_count": null,
   "metadata": {},
   "outputs": [],
   "source": [
    "import torch\n",
    "import matplotlib.pyplot as plt"
   ]
  },
  {
   "cell_type": "code",
   "execution_count": null,
   "metadata": {},
   "outputs": [],
   "source": [
    "feature_map = torch.rand(7, 8).cpu()\n",
    "print(feature_map)\n",
    "print(feature_map.shape)\n",
    "# feature_map = feature_map.squeeze()\n",
    "plt.imshow(feature_map.numpy())\n",
    "plt.show()"
   ]
  },
  {
   "cell_type": "code",
   "execution_count": null,
   "metadata": {},
   "outputs": [],
   "source": [
    "import itertools\n",
    "import numpy as np\n",
    "import matplotlib.pyplot as plt\n",
    "\n",
    "from sklearn import svm, datasets\n",
    "from sklearn.model_selection import train_test_split\n",
    "from sklearn.metrics import confusion_matrix\n",
    "\n",
    "def plot_feat_map(cm, cmap=plt.cm.Blues):\n",
    "    print(cm)\n",
    "\n",
    "    plt.imshow(cm, interpolation='nearest', cmap=cmap) \n",
    "    plt.axis('off')\n",
    "#     plt.colorbar()\n",
    "\n",
    "    fmt = '.2f'\n",
    "    thresh = cm.max() / 2.\n",
    "    for i, j in itertools.product(range(cm.shape[0]), range(cm.shape[1])):\n",
    "        plt.text(j, i, format(cm[i, j], fmt),\n",
    "                 horizontalalignment=\"center\",\n",
    "                 color=\"white\" if cm[i, j] > thresh else \"black\")\n",
    "\n",
    "    plt.ylabel('True label')\n",
    "    plt.xlabel('Predicted label')\n",
    "    plt.tight_layout()\n",
    "    \n",
    "# def plot_bb(x1, y1, x2, y2, colors='r'):\n",
    "\n",
    "\n",
    "\n",
    "np.set_printoptions(precision=2)\n",
    "\n",
    "# Plot feature map\n",
    "plt.figure()\n",
    "plot_feat_map(feature_map, )\n",
    "plt.hlines(0-1/2, 0-1/2,3-1/2, colors='r')\n",
    "plot_bb(0,0,3,3)\n",
    "plt.show()\n",
    "\n"
   ]
  },
  {
   "cell_type": "markdown",
   "metadata": {},
   "source": [
    "## Average Precision (AP)"
   ]
  },
  {
   "cell_type": "markdown",
   "metadata": {},
   "source": [
    "Here we are considering 5 objects in database anda 10 model outputs (5 being corrected detected and 5 not)."
   ]
  },
  {
   "cell_type": "code",
   "execution_count": 2,
   "metadata": {},
   "outputs": [],
   "source": [
    "import numpy as np\n",
    "import pandas as pd\n",
    "import random\n",
    "np.set_printoptions(precision=2)\n",
    "\n",
    "random.seed(42)"
   ]
  },
  {
   "cell_type": "code",
   "execution_count": 3,
   "metadata": {},
   "outputs": [],
   "source": [
    "n_objs = 5\n",
    "total_detections = 10\n",
    "correct_finds = 5"
   ]
  },
  {
   "cell_type": "code",
   "execution_count": 4,
   "metadata": {},
   "outputs": [],
   "source": [
    "# generating labels\n",
    "labels = [True, True, False, False, True, False, True, False, False, True]\n",
    "confidence = [0.99, 0.95, 0.82, 0.81, 0.79, 0.78, 0.74, 0.73, 0.63, 0.62]"
   ]
  },
  {
   "cell_type": "code",
   "execution_count": 5,
   "metadata": {},
   "outputs": [],
   "source": [
    "# computing precision and recall\n",
    "TP = np.cumsum(labels)\n",
    "prec = TP / np.arange(1, total_detections+1)\n",
    "rec = TP/n_objs"
   ]
  },
  {
   "cell_type": "code",
   "execution_count": 6,
   "metadata": {},
   "outputs": [
    {
     "name": "stdout",
     "output_type": "stream",
     "text": [
      "\\begin{tabular}{lrlrr}\n",
      "\\toprule\n",
      "{} &  Confidence &  Correct? &  Precision &  Recall \\\\\n",
      "\\midrule\n",
      "0 &        0.99 &      True &   1.000000 &     0.2 \\\\\n",
      "1 &        0.95 &      True &   1.000000 &     0.4 \\\\\n",
      "2 &        0.82 &     False &   0.666667 &     0.4 \\\\\n",
      "3 &        0.81 &     False &   0.500000 &     0.4 \\\\\n",
      "4 &        0.79 &      True &   0.600000 &     0.6 \\\\\n",
      "5 &        0.78 &     False &   0.500000 &     0.6 \\\\\n",
      "6 &        0.74 &      True &   0.571429 &     0.8 \\\\\n",
      "7 &        0.73 &     False &   0.500000 &     0.8 \\\\\n",
      "8 &        0.63 &     False &   0.444444 &     0.8 \\\\\n",
      "9 &        0.62 &      True &   0.500000 &     1.0 \\\\\n",
      "\\bottomrule\n",
      "\\end{tabular}\n",
      "\n"
     ]
    }
   ],
   "source": [
    "# putting in a dataframe\n",
    "data = {\n",
    "    'Confidence': confidence, \n",
    "    'Correct?': labels, \n",
    "    'Precision': prec,\n",
    "    'Recall': rec\n",
    "    }\n",
    "df = pd.DataFrame(data=data)\n",
    "print(df.to_latex())"
   ]
  },
  {
   "cell_type": "code",
   "execution_count": 7,
   "metadata": {
    "scrolled": false
   },
   "outputs": [
    {
     "data": {
      "image/png": "[encoded data removed]",
      "text/plain": [
       "<Figure size 432x288 with 1 Axes>"
      ]
     },
     "metadata": {
      "needs_background": "light"
     },
     "output_type": "display_data"
    }
   ],
   "source": [
    "plt.plot(df.Recall, df.Precision)\n",
    "plt.xlabel('recall')\n",
    "plt.ylabel('precision')\n",
    "plt.yticks(np.arange(0.5, 1.1, .1))\n",
    "plt.xlim(0.2, 1.0)\n",
    "plt.ylim(0.4, 1.05)\n",
    "plt.savefig('precision.pdf', bbox_inches='tight')\n",
    "plt.show()"
   ]
  },
  {
   "cell_type": "code",
   "execution_count": 8,
   "metadata": {},
   "outputs": [],
   "source": [
    "def p_interp(p, r):\n",
    "    p_flip = p[::-1]\n",
    "    p_int = [p_flip[0]]\n",
    "    \n",
    "    for i in range(len(p)-1):        \n",
    "        p_int.append(max(p_int[i], p_flip[i+1]))\n",
    "    \n",
    "    return p_int[::-1]    "
   ]
  },
  {
   "cell_type": "code",
   "execution_count": 9,
   "metadata": {},
   "outputs": [],
   "source": [
    "p_int = p_interp(prec, rec)\n",
    "df.insert(column='p_interp', value=p_int, loc=len(df.columns))"
   ]
  },
  {
   "cell_type": "code",
   "execution_count": 10,
   "metadata": {
    "scrolled": false
   },
   "outputs": [
    {
     "data": {
      "image/png": "[encoded data removed]",
      "text/plain": [
       "<Figure size 432x288 with 1 Axes>"
      ]
     },
     "metadata": {
      "needs_background": "light"
     },
     "output_type": "display_data"
    }
   ],
   "source": [
    "# plotting\n",
    "plt.plot(df.Recall, df.Precision)\n",
    "plt.plot(df.Recall, df.p_interp)\n",
    "plt.legend(labels=['precision', '$p_{interp}$'])\n",
    "plt.xlabel('recall')\n",
    "plt.ylabel('precision')\n",
    "plt.yticks(np.arange(0.5, 1.1, .1))\n",
    "plt.xlim(0.2, 1.0)\n",
    "plt.ylim(0.4, 1.05)\n",
    "plt.savefig('precision_interp.pdf', bbox_inches='tight')\n",
    "plt.show()"
   ]
  },
  {
   "cell_type": "code",
   "execution_count": null,
   "metadata": {},
   "outputs": [],
   "source": []
  },
  {
   "cell_type": "code",
   "execution_count": null,
   "metadata": {},
   "outputs": [],
   "source": [
    "    \n",
    "    "
   ]
  }
 ],
 "metadata": {
  "kernelspec": {
   "display_name": "Python 3",
   "language": "python",
   "name": "python3"
  },
  "language_info": {
   "codemirror_mode": {
    "name": "ipython",
    "version": 3
   },
   "file_extension": ".py",
   "mimetype": "text/x-python",
   "name": "python",
   "nbconvert_exporter": "python",
   "pygments_lexer": "ipython3",
   "version": "3.6.6"
  }
 },
 "nbformat": 4,
 "nbformat_minor": 2
}
