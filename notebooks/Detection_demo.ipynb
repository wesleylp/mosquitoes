{
 "cells": [
  {
   "cell_type": "markdown",
   "metadata": {},
   "source": [
    "# Mosquitoes detection demo"
   ]
  },
  {
   "cell_type": "code",
   "execution_count": null,
   "metadata": {},
   "outputs": [],
   "source": [
    "# the notebook will reload external python modules;\n",
    "%load_ext autoreload\n",
    "%autoreload 2"
   ]
  },
  {
   "cell_type": "code",
   "execution_count": null,
   "metadata": {},
   "outputs": [],
   "source": [
    "import os\n",
    "import sys\n",
    "sys.path.append('../codes')\n",
    "sys.path.append('../codes/maskrcnn-benchmark/')\n",
    "\n",
    "import matplotlib.pyplot as plt\n",
    "import matplotlib.pylab as pylab\n",
    "\n",
    "import requests\n",
    "from io import BytesIO\n",
    "from PIL import Image\n",
    "import numpy as np\n",
    "import cv2\n",
    "\n",
    "from maskrcnn_benchmark.config import cfg\n",
    "from maskrcnn_benchmark.data.datasets import MosquitoesCOCODataset\n",
    "from demo.predictor import MosquitoDemo\n",
    "from utils.img_utils import add_bboxes_on_image"
   ]
  },
  {
   "cell_type": "code",
   "execution_count": null,
   "metadata": {},
   "outputs": [],
   "source": [
    "# this makes our figures bigger\n",
    "pylab.rcParams['figure.figsize'] = 14, 10"
   ]
  },
  {
   "cell_type": "code",
   "execution_count": null,
   "metadata": {},
   "outputs": [],
   "source": [
    "root = '../data/CEFET/VideoDataSet/5m'\n",
    "dataset = 'Test'\n",
    "data = MosquitoesCOCODataset(\n",
    "    ann_file=os.path.join(root, dataset, 'coco_format_'+dataset+'.json'),    \n",
    "    root=os.path.join(root, dataset),\n",
    "    remove_images_without_annotations=True\n",
    "    )"
   ]
  },
  {
   "cell_type": "code",
   "execution_count": null,
   "metadata": {},
   "outputs": [],
   "source": [
    "exp = 'e2e_faster_rcnn_R_50_C4_1x_cocostyle'\n",
    "model = 'model_final'\n",
    "\n",
    "config_file = '../codes/maskrcnn-benchmark/configs/mosquitoes/{}.yaml'.format(exp)\n",
    "weights = \"../codes/maskrcnn-benchmark/results/{}/{}.pth\".format(exp, model)\n",
    "\n",
    "# update the config options with the config file\n",
    "cfg.merge_from_file(config_file)\n",
    "# manual override some options\n",
    "cfg.merge_from_list([\"MODEL.DEVICE\", \"cuda\"])\n",
    "cfg.merge_from_list([\"DATALOADER.SIZE_DIVISIBILITY\", 32])\n",
    "cfg.merge_from_list([\"MODEL.WEIGHT\", weights])"
   ]
  },
  {
   "cell_type": "code",
   "execution_count": null,
   "metadata": {},
   "outputs": [],
   "source": [
    "mosquitoes_demo = MosquitoDemo(\n",
    "    cfg,\n",
    "    min_image_size=800,\n",
    "    confidence_threshold=0.7,\n",
    ")"
   ]
  },
  {
   "cell_type": "code",
   "execution_count": null,
   "metadata": {},
   "outputs": [],
   "source": [
    "img, target, idx = data[105]\n",
    "img = np.array(img)\n",
    "# predictor considers images in BGR channel order\n",
    "pred = mosquitoes_demo.compute_prediction(cv2.cvtColor(img, cv2.COLOR_RGB2BGR))"
   ]
  },
  {
   "cell_type": "code",
   "execution_count": null,
   "metadata": {},
   "outputs": [],
   "source": [
    "result = img.copy()\n",
    "result = add_bboxes_on_image(result, target.bbox, thickness=3, color=(0, 255, 0))\n",
    "result = add_bboxes_on_image(result, pred.bbox, thickness=3, color=(0, 0, 255))\n",
    "result = mosquitoes_demo.overlay_class_names(result, pred)\n",
    "plt.imshow(result)\n",
    "plt.axis('off')\n",
    "plt.show()"
   ]
  },
  {
   "cell_type": "markdown",
   "metadata": {},
   "source": [
    "## Testing model on arbitrary images"
   ]
  },
  {
   "cell_type": "code",
   "execution_count": null,
   "metadata": {},
   "outputs": [],
   "source": [
    "def load_url(url):\n",
    "    \"\"\"\n",
    "    Given an url of an image, downloads the image and\n",
    "    returns a PIL image\n",
    "    \"\"\"\n",
    "    response = requests.get(url)\n",
    "    pil_image = Image.open(BytesIO(response.content)).convert(\"RGB\")\n",
    "    image = np.array(pil_image)\n",
    "    return image\n",
    "\n",
    "def disp_bbs(orig_img, predictions, thickness=5, ground_truth=None):\n",
    "    img_bb = orig_img.copy()\n",
    "    \n",
    "    if ground_truth is not None:\n",
    "        img_bb = add_bboxes_on_image(img_bb, target.bbox, thickness=thickness, color=(0, 255, 0))\n",
    "    \n",
    "    img_bb = add_bboxes_on_image(img_bb, predictions.bbox,thickness=thickness, color=(0, 0, 255))\n",
    "    img_bb = mosquitoes_demo.overlay_class_names(img_bb, predictions)\n",
    "    plt.imshow(img_bb)\n",
    "    plt.axis('off')\n",
    "    plt.show()\n",
    "    return"
   ]
  },
  {
   "cell_type": "code",
   "execution_count": null,
   "metadata": {},
   "outputs": [],
   "source": [
    "image = load_url(\"https://isiria.files.wordpress.com/2009/03/oxford_tire_pile_011.jpg\")\n",
    "# compute predictions\n",
    "# predictor considers images in BGR channel order\n",
    "predictions = mosquitoes_demo.compute_prediction(cv2.cvtColor(image, cv2.COLOR_RGB2BGR))\n",
    "disp_bbs(image, predictions, thickness=1)"
   ]
  },
  {
   "cell_type": "code",
   "execution_count": null,
   "metadata": {
    "scrolled": false
   },
   "outputs": [],
   "source": [
    "image = load_url(\"https://thesocietypages.org/socimages/files/2008/12/oxford_tire_pile_09a.jpg\")\n",
    "# compute predictions\n",
    "# predictor considers images in BGR channel order\n",
    "predictions = mosquitoes_demo.compute_prediction(cv2.cvtColor(image, cv2.COLOR_RGB2BGR))\n",
    "disp_bbs(image, predictions, thickness=1)"
   ]
  },
  {
   "cell_type": "code",
   "execution_count": null,
   "metadata": {},
   "outputs": [],
   "source": [
    "image = load_url(\"https://www.dailyserving.com/wp-content/uploads/2015/07/Fig.-1-Edward-Burtynsky-600x467.jpg\")\n",
    "# compute predictions\n",
    "# predictor considers images in BGR channel order\n",
    "predictions = mosquitoes_demo.compute_prediction(cv2.cvtColor(image, cv2.COLOR_RGB2BGR))\n",
    "disp_bbs(image, predictions, thickness=1)"
   ]
  }
 ],
 "metadata": {
  "kernelspec": {
   "display_name": "Python 3",
   "language": "python",
   "name": "python3"
  },
  "language_info": {
   "codemirror_mode": {
    "name": "ipython",
    "version": 3
   },
   "file_extension": ".py",
   "mimetype": "text/x-python",
   "name": "python",
   "nbconvert_exporter": "python",
   "pygments_lexer": "ipython3",
   "version": "3.6.6"
  }
 },
 "nbformat": 4,
 "nbformat_minor": 2
}
