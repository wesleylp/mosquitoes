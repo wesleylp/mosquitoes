{
 "cells": [
  {
   "cell_type": "code",
   "execution_count": 1,
   "metadata": {},
   "outputs": [
    {
     "name": "stderr",
     "output_type": "stream",
     "text": [
      "/home/wesley.passos/miniconda3/envs/mosquitoes/lib/python3.6/site-packages/tqdm/autonotebook/__init__.py:14: TqdmExperimentalWarning: Using `tqdm.autonotebook.tqdm` in notebook mode. Use `tqdm.tqdm` instead to force console mode (e.g. in jupyter console)\n",
      "  \" (e.g. in jupyter console)\", TqdmExperimentalWarning)\n"
     ]
    }
   ],
   "source": [
    "import numpy as np\n",
    "import os\n",
    "import matplotlib.pyplot as plt\n",
    "import sys\n",
    "import cv2\n",
    "sys.path.insert(0, '../codes')\n",
    "import video_utils\n",
    "from skimage.measure import compare_ssim as ssim"
   ]
  },
  {
   "cell_type": "code",
   "execution_count": 2,
   "metadata": {},
   "outputs": [],
   "source": [
    "# the notebook will reload external python modules;\n",
    "%load_ext autoreload\n",
    "%autoreload 2"
   ]
  },
  {
   "cell_type": "code",
   "execution_count": 3,
   "metadata": {},
   "outputs": [
    {
     "name": "stdout",
     "output_type": "stream",
     "text": [
      "OpenCV Version : 3.3.1 \n"
     ]
    }
   ],
   "source": [
    "#make matplotlib figures appear inline in the notebook\n",
    "#rather than in a new window.\n",
    "%matplotlib inline\n",
    "#sns.set()\n",
    "# set default size of plots\n",
    "plt.rcParams['figure.figsize'] = (12.0, 10.0) \n",
    "plt.rcParams['image.interpolation'] = 'nearest'\n",
    "plt.rcParams['image.cmap'] = 'gray'\n",
    "plt.rcParams['xtick.labelsize'] = 20\n",
    "plt.rcParams['ytick.labelsize'] = 20\n",
    "\n",
    "\n",
    "#print OpenCV version\n",
    "print (\"OpenCV Version : %s \" % cv2.__version__)"
   ]
  },
  {
   "cell_type": "code",
   "execution_count": 4,
   "metadata": {},
   "outputs": [],
   "source": [
    "def mse(x, y):\n",
    "    return np.linalg.norm(x - y)/(x.shape[0]*x.shape[1])"
   ]
  },
  {
   "cell_type": "markdown",
   "metadata": {},
   "source": [
    "## Creating video object"
   ]
  },
  {
   "cell_type": "code",
   "execution_count": 7,
   "metadata": {},
   "outputs": [],
   "source": [
    "videos_path = '../data/DJI4_cam/2018-09-05/seq001/mission_001'\n",
    "video_name = 'original_001.MOV'\n",
    "video = os.path.join(videos_path, video_name)\n",
    "vid = video_utils.videoObj(videopath=video)"
   ]
  },
  {
   "cell_type": "code",
   "execution_count": 9,
   "metadata": {
    "scrolled": false
   },
   "outputs": [
    {
     "name": "stdout",
     "output_type": "stream",
     "text": [
      "\n",
      "*************************************\n",
      "************* video info ************\n",
      " \n",
      "File path: ../data/DJI4_cam/2018-09-05/seq001/mission_001/original_001.MOV\n",
      "File name: original_001.MOV\n",
      "File extension: mov,mp4,m4a,3gp,3g2,mj2 (QuickTime / MOV)\n",
      "Created on: 2018-09-05T11:14:19.000000Z\n",
      "File size: 1962746669\n",
      "Codec: h264 (H.264 / AVC / MPEG-4 AVC / MPEG-4 part 10)\n",
      "Width: 3840\n",
      "Height: 2160\n",
      "Width x Height: [3840, 2160]\n",
      "Sample aspect ratio: 1:1\n",
      "Display aspect ratio: 16:9\n",
      "Pixel format: yuv420p\n",
      "Frame rate: 48000/1001\n",
      "Duration ts: 7537530\n",
      "Duration: 157.031875\n",
      "Bit rate: 99963919\n",
      "Number of frames: 7530\n",
      "\n",
      "*************************************\n"
     ]
    }
   ],
   "source": [
    "vid.videoInfo.printAllInformation()"
   ]
  },
  {
   "cell_type": "code",
   "execution_count": null,
   "metadata": {},
   "outputs": [],
   "source": [
    "print('rms: {}'.format(ret))\n",
    "print('camera matrix: \\n', mtx)\n",
    "print('distortion coefficients: ', dist)"
   ]
  },
  {
   "cell_type": "markdown",
   "metadata": {},
   "source": [
    "## Testing calibration"
   ]
  },
  {
   "cell_type": "code",
   "execution_count": null,
   "metadata": {},
   "outputs": [],
   "source": [
    "#load video\n",
    "video_test = os.path.join(videos_path,video_name)\n",
    "video_capture = cv2.VideoCapture(video_test)\n",
    "\n",
    "#extract first frame\n",
    "success,img = video_capture.read()\n",
    "h, w = img.shape[:2]\n",
    "\n",
    "#displaying image\n",
    "plt.imshow(cv2.cvtColor(img,cv2.COLOR_BGR2RGB))\n",
    "plt.axis('off')\n",
    "plt.title('original image')\n",
    "plt.show()\n",
    "print('image size: ', img.shape)"
   ]
  },
  {
   "cell_type": "markdown",
   "metadata": {},
   "source": [
    "* optimizing camera params:"
   ]
  },
  {
   "cell_type": "code",
   "execution_count": null,
   "metadata": {},
   "outputs": [],
   "source": [
    "#optimize camera matrix\n",
    "newcameramtx, roi=cv2.getOptimalNewCameraMatrix(mtx, dist, (w,h), 1, (w,h))\n",
    "\n",
    "print('\\nCamera matrix: \\n', mtx)\n",
    "print('\\nNew camera matrix: \\n', newcameramtx)\n",
    "print('\\nRoI: \\n', roi)"
   ]
  },
  {
   "cell_type": "markdown",
   "metadata": {},
   "source": [
    "* undistorting frame:"
   ]
  },
  {
   "cell_type": "code",
   "execution_count": null,
   "metadata": {},
   "outputs": [],
   "source": [
    "#undistort\n",
    "dst = cv2.undistort(img, mtx, dist, None, newcameramtx)\n",
    "\n",
    "plt.imshow(cv2.cvtColor(dst,cv2.COLOR_BGR2RGB))\n",
    "plt.axis('off')\n",
    "plt.title('undistorted image')\n",
    "plt.show()\n",
    "# print('image size: ', dst.shape)"
   ]
  },
  {
   "cell_type": "markdown",
   "metadata": {},
   "source": [
    "* computing SSIM and MSE between images..."
   ]
  },
  {
   "cell_type": "code",
   "execution_count": null,
   "metadata": {},
   "outputs": [],
   "source": [
    "MSE = mse(img, dst)\n",
    "SSIM = ssim(img, dst, multichannel=True)\n",
    "\n",
    "print('MSE: ', MSE)\n",
    "print('SSIM: ', SSIM)"
   ]
  },
  {
   "cell_type": "markdown",
   "metadata": {},
   "source": [
    "* blending original and undistorted images..."
   ]
  },
  {
   "cell_type": "code",
   "execution_count": null,
   "metadata": {},
   "outputs": [],
   "source": [
    "alpha = 0.5\n",
    "beta = (1.0 - alpha)\n",
    "blend = np.uint8(alpha*(img)+beta*(dst))\n",
    "\n",
    "plt.imshow(cv2.cvtColor(blend,cv2.COLOR_BGR2RGB))\n",
    "plt.axis('off')\n",
    "plt.title('Blended images')\n",
    "plt.show()"
   ]
  }
 ],
 "metadata": {
  "kernelspec": {
   "display_name": "Python 3",
   "language": "python",
   "name": "python3"
  },
  "language_info": {
   "codemirror_mode": {
    "name": "ipython",
    "version": 3
   },
   "file_extension": ".py",
   "mimetype": "text/x-python",
   "name": "python",
   "nbconvert_exporter": "python",
   "pygments_lexer": "ipython3",
   "version": "3.6.4"
  }
 },
 "nbformat": 4,
 "nbformat_minor": 2
}
